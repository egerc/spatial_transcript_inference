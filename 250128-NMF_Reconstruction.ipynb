{
 "cells": [
  {
   "cell_type": "markdown",
   "metadata": {},
   "source": [
    "## Prepare Environment"
   ]
  },
  {
   "cell_type": "markdown",
   "metadata": {},
   "source": [
    "### Modules"
   ]
  },
  {
   "cell_type": "code",
   "execution_count": 1,
   "metadata": {},
   "outputs": [
    {
     "name": "stderr",
     "output_type": "stream",
     "text": [
      "/opt/homebrew/Caskroom/miniforge/base/envs/scvi_mps-env/lib/python3.10/site-packages/tqdm/auto.py:21: TqdmWarning: IProgress not found. Please update jupyter and ipywidgets. See https://ipywidgets.readthedocs.io/en/stable/user_install.html\n",
      "  from .autonotebook import tqdm as notebook_tqdm\n"
     ]
    }
   ],
   "source": [
    "from pathlib import Path\n",
    "from typing import Union\n",
    "\n",
    "import numpy as np\n",
    "import pandas as pd\n",
    "import torch\n",
    "import scvi\n",
    "import scanpy as sc\n",
    "import sklearn\n",
    "\n",
    "import matplotlib.pyplot as plt\n"
   ]
  },
  {
   "cell_type": "code",
   "execution_count": 2,
   "metadata": {},
   "outputs": [
    {
     "name": "stdout",
     "output_type": "stream",
     "text": [
      "True False\n"
     ]
    }
   ],
   "source": [
    "print(\n",
    "    torch.backends.mps.is_available(),\n",
    "    torch.cuda.is_available()\n",
    ")"
   ]
  },
  {
   "cell_type": "markdown",
   "metadata": {},
   "source": [
    "### Utils"
   ]
  },
  {
   "cell_type": "code",
   "execution_count": 3,
   "metadata": {},
   "outputs": [],
   "source": [
    "def create_folders(base_path: str, structure: dict, current_path: Union[str, Path] = None) -> None:\n",
    "    if current_path is None:\n",
    "        current_path = Path(base_path)\n",
    "    Path(current_path).mkdir(exist_ok=True)\n",
    "    for key, value in structure.items():\n",
    "        new_path = current_path / str(key)\n",
    "        if isinstance(value, dict):\n",
    "            Path(new_path).mkdir(exist_ok=True)\n",
    "            create_folders(base_path, value, new_path)"
   ]
  },
  {
   "cell_type": "markdown",
   "metadata": {},
   "source": [
    "### Folder Structure"
   ]
  },
  {
   "cell_type": "code",
   "execution_count": 4,
   "metadata": {},
   "outputs": [],
   "source": [
    "create_folders(\n",
    "    str(Path.cwd()),\n",
    "    {\n",
    "        \"data\": {\n",
    "            \"inputQuery\": {},\n",
    "            \"inputRef\": {},\n",
    "            \"nico_out\": {},\n",
    "        }\n",
    "    }\n",
    ")"
   ]
  },
  {
   "cell_type": "markdown",
   "metadata": {},
   "source": [
    "### Dataloading"
   ]
  },
  {
   "cell_type": "code",
   "execution_count": 5,
   "metadata": {},
   "outputs": [
    {
     "data": {
      "text/plain": [
       "(AnnData object with n_obs × n_vars = 7416 × 203\n",
       "     obs: 'umi_sct', 'log_umi_sct', 'gene_sct', 'log_gene_sct', 'umi_per_gene_sct', 'log_umi_per_gene_sct', 'leiden0.4', 'leiden0.5', 'nico_ct'\n",
       "     var: 'Intercept_sct', 'log_umi_sct', 'theta_sct', 'Intercept_step1_sct', 'log_umi_step1_sct', 'dispersion_step1_sct', 'genes_step1_sct', 'log10_gmean_sct'\n",
       "     uns: 'leiden', 'leiden0.5_colors', 'neighbors', 'pca', 'umap'\n",
       "     obsm: 'X_pca', 'X_umap', 'spatial'\n",
       "     varm: 'PCs'\n",
       "     obsp: 'connectivities', 'distances',\n",
       " AnnData object with n_obs × n_vars = 2239 × 32287\n",
       "     obs: 'cluster')"
      ]
     },
     "execution_count": 5,
     "metadata": {},
     "output_type": "execute_result"
    }
   ],
   "source": [
    "adata_sp = sc.read_h5ad(Path.cwd() / \"data\" / \"nico_out\" / \"nico_celltype_annotation.h5ad\")\n",
    "adata_sc = sc.read_h5ad(Path.cwd() / \"data\" / \"inputRef\" / \"input_ref.h5ad\")\n",
    "adata_sp, adata_sc"
   ]
  },
  {
   "cell_type": "markdown",
   "metadata": {},
   "source": [
    "### Dataprep"
   ]
  },
  {
   "cell_type": "code",
   "execution_count": 6,
   "metadata": {},
   "outputs": [
    {
     "data": {
      "text/plain": [
       "{'BZE',\n",
       " 'Blood vasc.',\n",
       " 'Cycling/GC B cell',\n",
       " 'Glial',\n",
       " 'Goblet',\n",
       " 'Lymphatic',\n",
       " 'MZE',\n",
       " 'Macrophage',\n",
       " 'Paneth',\n",
       " 'Plasma',\n",
       " 'Rest B',\n",
       " 'Stem/TA',\n",
       " 'Stroma',\n",
       " 'T cell',\n",
       " 'TZE',\n",
       " 'Tuft',\n",
       " 'cDC/monocyte',\n",
       " 'neurons/enteroendocrine',\n",
       " 'pDC'}"
      ]
     },
     "execution_count": 6,
     "metadata": {},
     "output_type": "execute_result"
    }
   ],
   "source": [
    "# Choose one celltype from the available shared types to filter adata objects with\n",
    "set.intersection(\n",
    "    set(adata_sc.obs[\"cluster\"]),\n",
    "    set(adata_sp.obs[\"nico_ct\"])\n",
    ")"
   ]
  },
  {
   "cell_type": "code",
   "execution_count": 7,
   "metadata": {},
   "outputs": [
    {
     "data": {
      "text/plain": [
       "(AnnData object with n_obs × n_vars = 420 × 32287\n",
       "     obs: 'cluster',\n",
       " AnnData object with n_obs × n_vars = 997 × 203\n",
       "     obs: 'umi_sct', 'log_umi_sct', 'gene_sct', 'log_gene_sct', 'umi_per_gene_sct', 'log_umi_per_gene_sct', 'leiden0.4', 'leiden0.5', 'nico_ct'\n",
       "     var: 'Intercept_sct', 'log_umi_sct', 'theta_sct', 'Intercept_step1_sct', 'log_umi_step1_sct', 'dispersion_step1_sct', 'genes_step1_sct', 'log10_gmean_sct'\n",
       "     uns: 'leiden', 'leiden0.5_colors', 'neighbors', 'pca', 'umap'\n",
       "     obsm: 'X_pca', 'X_umap', 'spatial'\n",
       "     varm: 'PCs'\n",
       "     obsp: 'connectivities', 'distances')"
      ]
     },
     "execution_count": 7,
     "metadata": {},
     "output_type": "execute_result"
    }
   ],
   "source": [
    "celltype = \"Stem/TA\"\n",
    "adata_sc_filtered = adata_sc[adata_sc.obs[\"cluster\"] == celltype].copy()\n",
    "adata_sp_filtered = adata_sp[adata_sp.obs[\"nico_ct\"] == celltype].copy()\n",
    "adata_sc_filtered, adata_sp_filtered"
   ]
  },
  {
   "cell_type": "markdown",
   "metadata": {},
   "source": [
    "## Benchmarking"
   ]
  },
  {
   "cell_type": "code",
   "execution_count": 24,
   "metadata": {},
   "outputs": [
    {
     "name": "stderr",
     "output_type": "stream",
     "text": [
      "/opt/homebrew/Caskroom/miniforge/base/envs/scvi_mps-env/lib/python3.10/site-packages/sklearn/decomposition/_nmf.py:1742: ConvergenceWarning: Maximum number of iterations 200 reached. Increase it to improve convergence.\n",
      "  warnings.warn(\n"
     ]
    },
    {
     "data": {
      "text/plain": [
       "4.443472385406494"
      ]
     },
     "execution_count": 24,
     "metadata": {},
     "output_type": "execute_result"
    }
   ],
   "source": [
    "model_nmf = sklearn.decomposition.NMF(\n",
    "    n_components=3,\n",
    ")\n",
    "W = model_nmf.fit_transform(\n",
    "   X=adata_sc_filtered.X.transpose() \n",
    ")\n",
    "H = model_nmf.components_\n",
    "sklearn.metrics.mean_squared_error(\n",
    "    adata_sc_filtered.X.transpose().toarray(),\n",
    "    W @ H\n",
    ")"
   ]
  },
  {
   "cell_type": "code",
   "execution_count": 25,
   "metadata": {},
   "outputs": [
    {
     "data": {
      "image/png": "[encoded data removed]",
      "text/plain": [
       "<Figure size 1400x400 with 2 Axes>"
      ]
     },
     "metadata": {},
     "output_type": "display_data"
    },
    {
     "name": "stdout",
     "output_type": "stream",
     "text": [
      "Correlation Coeff Gene Reconstruction: 0.9999169659403755 \n",
      "Correlation Coeff Cell Reconstruction: 0.9769244989348445\n"
     ]
    }
   ],
   "source": [
    "fig, axs = plt.subplots(1, 2, figsize=(14,4))\n",
    "\n",
    "axs[0].scatter(\n",
    "    adata_sc_filtered.X.transpose().toarray().mean(axis=1),\n",
    "    (W @ H).mean(axis=1),\n",
    ")\n",
    "axs[0].set_title(\"Correlation Mean Transcripts per gene reconstruction\")\n",
    "axs[0].set_xlabel(\"Mean reconstructed transcripts per gene\")\n",
    "axs[0].set_ylabel(\"Mean transcripts per gene\")\n",
    "\n",
    "axs[1].scatter(\n",
    "    adata_sc_filtered.X.transpose().toarray().mean(axis=0),\n",
    "    (W @ H).mean(axis=0),\n",
    ")\n",
    "axs[1].set_title(\"Correlation Mean Transcripts per cell reconstruction\")\n",
    "axs[1].set_xlabel(\"Mean reconstructed transcripts per cell\")\n",
    "axs[1].set_ylabel(\"Mean transcripts per cell\")\n",
    "plt.show()\n",
    "\n",
    "print(\n",
    "    f\"Correlation Coeff Gene Reconstruction: {np.corrcoef(adata_sc_filtered.X.transpose().toarray().mean(axis=1), (W @ H).mean(axis=1))[0, 1]}\",\n",
    "    f\"\\nCorrelation Coeff Cell Reconstruction: {np.corrcoef(adata_sc_filtered.X.transpose().toarray().mean(axis=0), (W @ H).mean(axis=0))[0, 1]}\",\n",
    ")"
   ]
  },
  {
   "cell_type": "code",
   "execution_count": 28,
   "metadata": {},
   "outputs": [
    {
     "data": {
      "text/plain": [
       "array([False, False, False, ..., False, False, False])"
      ]
     },
     "execution_count": 28,
     "metadata": {},
     "output_type": "execute_result"
    }
   ],
   "source": [
    "np.isin(adata_sc_filtered.var_names, adata_sp_filtered.var_names)"
   ]
  },
  {
   "cell_type": "code",
   "execution_count": 32,
   "metadata": {},
   "outputs": [
    {
     "data": {
      "text/plain": [
       "AnnData object with n_obs × n_vars = 997 × 203\n",
       "    obs: 'umi_sct', 'log_umi_sct', 'gene_sct', 'log_gene_sct', 'umi_per_gene_sct', 'log_umi_per_gene_sct', 'leiden0.4', 'leiden0.5', 'nico_ct'\n",
       "    var: 'Intercept_sct', 'log_umi_sct', 'theta_sct', 'Intercept_step1_sct', 'log_umi_step1_sct', 'dispersion_step1_sct', 'genes_step1_sct', 'log10_gmean_sct'\n",
       "    uns: 'leiden', 'leiden0.5_colors', 'neighbors', 'pca', 'umap'\n",
       "    obsm: 'X_pca', 'X_umap', 'spatial'\n",
       "    varm: 'PCs'\n",
       "    obsp: 'connectivities', 'distances'"
      ]
     },
     "execution_count": 32,
     "metadata": {},
     "output_type": "execute_result"
    }
   ],
   "source": [
    "adata_sp_filtered"
   ]
  },
  {
   "cell_type": "code",
   "execution_count": 37,
   "metadata": {},
   "outputs": [
    {
     "data": {
      "text/plain": [
       "['Acsl1',\n",
       " 'Acta2',\n",
       " 'Ada',\n",
       " 'Adgrd1',\n",
       " 'Adgrf5',\n",
       " 'Adra1a',\n",
       " 'Adra1b',\n",
       " 'Adra2a',\n",
       " 'Adra2b',\n",
       " 'Adrb1']"
      ]
     },
     "execution_count": 37,
     "metadata": {},
     "output_type": "execute_result"
    }
   ],
   "source": [
    "list(adata_sp_filtered.var_names)[0:10]"
   ]
  },
  {
   "cell_type": "code",
   "execution_count": 41,
   "metadata": {},
   "outputs": [
    {
     "data": {
      "text/plain": [
       "array([[21.261753  , 28.685858  , 16.048298  , ...,  0.12589277,\n",
       "         0.5273324 ,  0.        ],\n",
       "       [ 1.7029352 ,  0.        , 13.323027  , ...,  2.792134  ,\n",
       "         1.4286821 ,  0.93393105],\n",
       "       [17.670866  , 10.896952  , 15.449147  , ...,  0.        ,\n",
       "         0.        ,  0.08054154]], dtype=float32)"
      ]
     },
     "execution_count": 41,
     "metadata": {},
     "output_type": "execute_result"
    }
   ],
   "source": [
    "H"
   ]
  },
  {
   "cell_type": "code",
   "execution_count": 33,
   "metadata": {},
   "outputs": [
    {
     "data": {
      "text/plain": [
       "array([[2.70334240e-02, 8.11406877e-03, 2.19436903e-02],\n",
       "       [0.00000000e+00, 7.13239424e-04, 4.37573559e-04],\n",
       "       [1.54552385e-01, 6.15503341e-02, 3.71021450e-01],\n",
       "       [2.38371348e+00, 4.98328149e-01, 1.05160451e+00],\n",
       "       [0.00000000e+00, 0.00000000e+00, 0.00000000e+00],\n",
       "       [6.57845708e-03, 1.94392484e-02, 1.23392949e-02],\n",
       "       [0.00000000e+00, 0.00000000e+00, 7.51169049e-04],\n",
       "       [0.00000000e+00, 0.00000000e+00, 0.00000000e+00],\n",
       "       [0.00000000e+00, 0.00000000e+00, 0.00000000e+00],\n",
       "       [3.12632974e-03, 9.96424700e-04, 0.00000000e+00],\n",
       "       [0.00000000e+00, 0.00000000e+00, 0.00000000e+00],\n",
       "       [2.56025058e-04, 7.42322940e-04, 9.04001718e-05],\n",
       "       [0.00000000e+00, 0.00000000e+00, 0.00000000e+00],\n",
       "       [1.91159270e-04, 0.00000000e+00, 1.61069096e-04],\n",
       "       [1.46871794e-03, 0.00000000e+00, 0.00000000e+00],\n",
       "       [1.31738640e-03, 0.00000000e+00, 0.00000000e+00],\n",
       "       [4.81556654e-02, 1.29597215e-02, 1.46526396e-01],\n",
       "       [4.03857935e-04, 0.00000000e+00, 0.00000000e+00],\n",
       "       [0.00000000e+00, 1.98207032e-02, 0.00000000e+00],\n",
       "       [0.00000000e+00, 6.35746215e-03, 0.00000000e+00],\n",
       "       [1.46989594e-04, 0.00000000e+00, 0.00000000e+00],\n",
       "       [0.00000000e+00, 0.00000000e+00, 0.00000000e+00],\n",
       "       [1.83316544e-01, 4.63584363e-02, 0.00000000e+00],\n",
       "       [0.00000000e+00, 0.00000000e+00, 9.75942519e-03],\n",
       "       [0.00000000e+00, 0.00000000e+00, 0.00000000e+00],\n",
       "       [0.00000000e+00, 0.00000000e+00, 0.00000000e+00],\n",
       "       [2.04128344e-02, 1.51831610e-02, 2.66376231e-02],\n",
       "       [0.00000000e+00, 0.00000000e+00, 0.00000000e+00],\n",
       "       [0.00000000e+00, 0.00000000e+00, 4.28471621e-03],\n",
       "       [3.79494391e-03, 3.44723882e-03, 3.42798904e-02],\n",
       "       [0.00000000e+00, 0.00000000e+00, 0.00000000e+00],\n",
       "       [1.64816948e-03, 0.00000000e+00, 0.00000000e+00],\n",
       "       [0.00000000e+00, 1.39445998e-03, 5.19671361e-04],\n",
       "       [3.24263024e+00, 1.77500641e+00, 0.00000000e+00],\n",
       "       [0.00000000e+00, 0.00000000e+00, 0.00000000e+00],\n",
       "       [0.00000000e+00, 0.00000000e+00, 0.00000000e+00],\n",
       "       [0.00000000e+00, 0.00000000e+00, 0.00000000e+00],\n",
       "       [0.00000000e+00, 0.00000000e+00, 0.00000000e+00],\n",
       "       [3.66167799e-02, 1.76675599e-02, 5.01626022e-02],\n",
       "       [9.54532623e-02, 1.11911073e-02, 0.00000000e+00],\n",
       "       [3.90763903e+00, 6.54736876e-01, 0.00000000e+00],\n",
       "       [4.24182788e-03, 2.14954372e-02, 0.00000000e+00],\n",
       "       [0.00000000e+00, 2.84756813e-02, 0.00000000e+00],\n",
       "       [1.84849203e-01, 7.66551569e-02, 1.35083273e-01],\n",
       "       [1.56339053e-02, 7.01005274e-06, 4.67426330e-03],\n",
       "       [2.00884836e-03, 1.03283441e-03, 1.64171332e-04],\n",
       "       [1.98396355e-01, 1.28516972e-01, 1.28391623e-01],\n",
       "       [0.00000000e+00, 0.00000000e+00, 0.00000000e+00],\n",
       "       [1.58325993e-02, 4.00403189e-03, 0.00000000e+00],\n",
       "       [4.80643474e-03, 8.81424581e-04, 0.00000000e+00],\n",
       "       [0.00000000e+00, 1.18497957e-03, 0.00000000e+00],\n",
       "       [1.57008355e-03, 0.00000000e+00, 2.43501645e-03],\n",
       "       [1.44309038e-03, 4.78404894e-04, 0.00000000e+00],\n",
       "       [6.91518094e-03, 5.59897441e-03, 0.00000000e+00],\n",
       "       [6.06690571e-02, 7.01731537e-03, 1.52298417e-02],\n",
       "       [0.00000000e+00, 0.00000000e+00, 0.00000000e+00],\n",
       "       [0.00000000e+00, 0.00000000e+00, 0.00000000e+00],\n",
       "       [0.00000000e+00, 0.00000000e+00, 0.00000000e+00],\n",
       "       [0.00000000e+00, 3.11960146e-04, 1.32096163e-03],\n",
       "       [9.15315642e-04, 1.07316813e-03, 0.00000000e+00],\n",
       "       [1.30056447e-04, 0.00000000e+00, 0.00000000e+00],\n",
       "       [1.89261488e-03, 0.00000000e+00, 2.16712849e-03],\n",
       "       [2.57002818e-03, 9.97588690e-03, 0.00000000e+00],\n",
       "       [0.00000000e+00, 0.00000000e+00, 0.00000000e+00],\n",
       "       [0.00000000e+00, 0.00000000e+00, 0.00000000e+00],\n",
       "       [1.22831110e-02, 0.00000000e+00, 6.64937450e-03],\n",
       "       [0.00000000e+00, 0.00000000e+00, 0.00000000e+00],\n",
       "       [1.95335550e-03, 1.05538836e-03, 2.88490159e-03],\n",
       "       [1.95036212e-03, 1.85690762e-03, 3.11339810e-03],\n",
       "       [0.00000000e+00, 0.00000000e+00, 2.21587718e-03],\n",
       "       [0.00000000e+00, 0.00000000e+00, 2.14276672e-03],\n",
       "       [0.00000000e+00, 0.00000000e+00, 9.63344984e-03],\n",
       "       [0.00000000e+00, 0.00000000e+00, 0.00000000e+00],\n",
       "       [7.83635303e-02, 0.00000000e+00, 8.48416612e-02],\n",
       "       [5.14509203e-03, 2.73967138e-03, 2.49161990e-03],\n",
       "       [2.49877535e-02, 0.00000000e+00, 2.24922355e-02],\n",
       "       [1.48847926e+00, 5.92270613e-01, 1.37984681e+00],\n",
       "       [6.31012857e-01, 1.74560755e-01, 1.77091777e-01],\n",
       "       [0.00000000e+00, 0.00000000e+00, 0.00000000e+00],\n",
       "       [8.71839095e-03, 0.00000000e+00, 3.51247936e-03],\n",
       "       [0.00000000e+00, 0.00000000e+00, 0.00000000e+00],\n",
       "       [3.02338303e-05, 0.00000000e+00, 1.22657488e-03],\n",
       "       [1.17524110e-01, 2.09198464e-02, 5.27493060e-02],\n",
       "       [4.01534605e+00, 1.74638402e+00, 3.19665456e+00],\n",
       "       [5.10472455e-04, 0.00000000e+00, 6.92757126e-03],\n",
       "       [5.68331045e-04, 2.82886694e-03, 0.00000000e+00],\n",
       "       [4.19324380e-04, 1.13185139e-04, 0.00000000e+00],\n",
       "       [1.65198708e-03, 0.00000000e+00, 3.76232411e-03],\n",
       "       [0.00000000e+00, 0.00000000e+00, 0.00000000e+00],\n",
       "       [0.00000000e+00, 7.54474677e-05, 0.00000000e+00],\n",
       "       [3.23681015e-04, 0.00000000e+00, 7.19884236e-04],\n",
       "       [0.00000000e+00, 0.00000000e+00, 0.00000000e+00],\n",
       "       [1.42331133e-04, 8.98553466e-04, 0.00000000e+00],\n",
       "       [0.00000000e+00, 0.00000000e+00, 0.00000000e+00],\n",
       "       [8.07100773e-01, 1.78941771e-01, 0.00000000e+00],\n",
       "       [5.88017225e-04, 4.41630371e-03, 1.81514164e-03],\n",
       "       [0.00000000e+00, 0.00000000e+00, 0.00000000e+00],\n",
       "       [2.07795971e-03, 0.00000000e+00, 0.00000000e+00],\n",
       "       [0.00000000e+00, 3.69269284e-03, 2.79795518e-03],\n",
       "       [3.01060498e-01, 1.67359728e-02, 9.43368971e-02],\n",
       "       [0.00000000e+00, 0.00000000e+00, 0.00000000e+00],\n",
       "       [2.79494096e-04, 0.00000000e+00, 0.00000000e+00],\n",
       "       [0.00000000e+00, 0.00000000e+00, 0.00000000e+00],\n",
       "       [1.38236908e-03, 0.00000000e+00, 0.00000000e+00],\n",
       "       [0.00000000e+00, 5.27678640e-04, 7.70356215e-04],\n",
       "       [8.67299328e-04, 8.26298958e-04, 9.25477361e-04],\n",
       "       [3.35467514e-04, 0.00000000e+00, 2.34133637e-04],\n",
       "       [0.00000000e+00, 0.00000000e+00, 0.00000000e+00],\n",
       "       [2.04698384e-01, 9.29560289e-02, 0.00000000e+00],\n",
       "       [0.00000000e+00, 0.00000000e+00, 0.00000000e+00],\n",
       "       [8.72737728e-03, 0.00000000e+00, 4.56715096e-03],\n",
       "       [0.00000000e+00, 0.00000000e+00, 0.00000000e+00],\n",
       "       [0.00000000e+00, 0.00000000e+00, 0.00000000e+00],\n",
       "       [0.00000000e+00, 0.00000000e+00, 0.00000000e+00],\n",
       "       [0.00000000e+00, 0.00000000e+00, 0.00000000e+00],\n",
       "       [1.14362070e-03, 0.00000000e+00, 2.47120764e-03],\n",
       "       [1.67756819e-03, 1.08874403e-02, 0.00000000e+00],\n",
       "       [0.00000000e+00, 0.00000000e+00, 0.00000000e+00],\n",
       "       [0.00000000e+00, 0.00000000e+00, 0.00000000e+00],\n",
       "       [2.68705264e-02, 7.79285794e-03, 1.05416467e-02],\n",
       "       [0.00000000e+00, 2.22998322e-03, 2.03287899e-02],\n",
       "       [0.00000000e+00, 0.00000000e+00, 0.00000000e+00],\n",
       "       [0.00000000e+00, 0.00000000e+00, 0.00000000e+00],\n",
       "       [1.93489477e-01, 1.18621141e-01, 1.83250591e-01],\n",
       "       [1.75569654e-01, 3.33871283e-02, 2.08085701e-02],\n",
       "       [0.00000000e+00, 0.00000000e+00, 0.00000000e+00],\n",
       "       [8.43049362e-02, 1.31418835e-03, 0.00000000e+00],\n",
       "       [1.34391174e-01, 2.04319302e-02, 1.15164528e-02],\n",
       "       [0.00000000e+00, 0.00000000e+00, 7.73219019e-03],\n",
       "       [0.00000000e+00, 0.00000000e+00, 0.00000000e+00],\n",
       "       [1.37234409e-03, 0.00000000e+00, 2.87669216e-04],\n",
       "       [2.78608143e-01, 1.73855767e-01, 2.37203136e-01],\n",
       "       [1.23174461e-02, 2.00482942e-02, 0.00000000e+00],\n",
       "       [6.96692765e-01, 2.27704599e-01, 0.00000000e+00],\n",
       "       [1.06348582e-01, 1.24290753e-02, 1.01105198e-01],\n",
       "       [0.00000000e+00, 8.13179940e-04, 2.70572546e-05],\n",
       "       [0.00000000e+00, 0.00000000e+00, 0.00000000e+00],\n",
       "       [0.00000000e+00, 0.00000000e+00, 0.00000000e+00],\n",
       "       [1.17276807e-03, 5.33204351e-04, 1.88607228e-04],\n",
       "       [0.00000000e+00, 0.00000000e+00, 1.34662781e-02],\n",
       "       [1.23042250e-02, 3.43443570e-03, 0.00000000e+00],\n",
       "       [7.46522564e-04, 0.00000000e+00, 0.00000000e+00],\n",
       "       [2.06620127e-04, 0.00000000e+00, 0.00000000e+00],\n",
       "       [0.00000000e+00, 0.00000000e+00, 0.00000000e+00],\n",
       "       [0.00000000e+00, 4.32500558e-04, 3.44010233e-03],\n",
       "       [1.12308282e-03, 3.24871304e-04, 1.52053009e-03],\n",
       "       [0.00000000e+00, 0.00000000e+00, 0.00000000e+00],\n",
       "       [1.67797972e-03, 0.00000000e+00, 0.00000000e+00],\n",
       "       [0.00000000e+00, 0.00000000e+00, 0.00000000e+00],\n",
       "       [0.00000000e+00, 0.00000000e+00, 0.00000000e+00],\n",
       "       [3.30628082e-02, 1.88496076e-02, 1.04096606e-02],\n",
       "       [0.00000000e+00, 0.00000000e+00, 0.00000000e+00],\n",
       "       [6.79101853e-04, 0.00000000e+00, 0.00000000e+00],\n",
       "       [2.22429987e-02, 1.36051020e-02, 3.35544311e-02],\n",
       "       [0.00000000e+00, 0.00000000e+00, 0.00000000e+00],\n",
       "       [1.60036795e-02, 0.00000000e+00, 2.58176611e-03],\n",
       "       [0.00000000e+00, 0.00000000e+00, 0.00000000e+00],\n",
       "       [7.68502126e-04, 8.11122954e-05, 0.00000000e+00],\n",
       "       [1.69643739e-04, 0.00000000e+00, 1.99432857e-03],\n",
       "       [0.00000000e+00, 8.13179940e-04, 2.70572546e-05],\n",
       "       [4.06715989e-01, 4.62967046e-02, 1.39670566e-01],\n",
       "       [0.00000000e+00, 0.00000000e+00, 0.00000000e+00],\n",
       "       [7.50428415e-04, 0.00000000e+00, 6.01603169e-05],\n",
       "       [4.25953791e-02, 1.58993062e-02, 1.86261207e-01],\n",
       "       [0.00000000e+00, 0.00000000e+00, 0.00000000e+00],\n",
       "       [0.00000000e+00, 0.00000000e+00, 0.00000000e+00],\n",
       "       [5.42009249e-02, 2.72863396e-02, 1.43211624e-02],\n",
       "       [0.00000000e+00, 0.00000000e+00, 0.00000000e+00],\n",
       "       [0.00000000e+00, 0.00000000e+00, 0.00000000e+00],\n",
       "       [0.00000000e+00, 0.00000000e+00, 0.00000000e+00],\n",
       "       [0.00000000e+00, 0.00000000e+00, 0.00000000e+00],\n",
       "       [3.63579988e-01, 1.57943040e-01, 0.00000000e+00],\n",
       "       [1.42097799e-02, 7.35803158e-04, 0.00000000e+00],\n",
       "       [0.00000000e+00, 0.00000000e+00, 1.68876024e-03],\n",
       "       [1.23596406e-02, 2.03027227e-03, 0.00000000e+00],\n",
       "       [0.00000000e+00, 1.45996455e-03, 5.35698840e-03],\n",
       "       [5.86638227e-02, 2.26711705e-02, 0.00000000e+00],\n",
       "       [2.58805013e+00, 9.76146221e-01, 0.00000000e+00],\n",
       "       [1.18723139e-03, 8.73346406e-04, 2.71666632e-03],\n",
       "       [1.38827302e-02, 6.28172467e-03, 0.00000000e+00],\n",
       "       [0.00000000e+00, 0.00000000e+00, 2.35550385e-03],\n",
       "       [5.35778818e-04, 0.00000000e+00, 5.81362925e-04],\n",
       "       [3.90079796e-01, 1.15011513e-01, 3.71221334e-01],\n",
       "       [2.62696599e-03, 1.65206287e-03, 1.06119923e-02],\n",
       "       [1.65376428e-03, 0.00000000e+00, 0.00000000e+00],\n",
       "       [4.71203821e-04, 1.84459768e-05, 0.00000000e+00],\n",
       "       [2.03406526e-04, 0.00000000e+00, 0.00000000e+00],\n",
       "       [5.45563351e-04, 1.13117264e-03, 2.81832227e-03],\n",
       "       [0.00000000e+00, 0.00000000e+00, 0.00000000e+00],\n",
       "       [0.00000000e+00, 0.00000000e+00, 0.00000000e+00],\n",
       "       [2.34305821e-02, 5.07171452e-03, 0.00000000e+00],\n",
       "       [6.78888485e-02, 4.22398234e-03, 2.41202433e-02],\n",
       "       [7.06167557e-05, 0.00000000e+00, 1.68980507e-04],\n",
       "       [0.00000000e+00, 0.00000000e+00, 1.52826146e-03],\n",
       "       [1.71506035e-04, 2.53749604e-04, 0.00000000e+00],\n",
       "       [3.36165100e-01, 5.24506755e-02, 4.64198887e-01],\n",
       "       [0.00000000e+00, 0.00000000e+00, 3.53325601e-03],\n",
       "       [7.34358968e-04, 0.00000000e+00, 0.00000000e+00],\n",
       "       [0.00000000e+00, 0.00000000e+00, 0.00000000e+00],\n",
       "       [1.85993486e-04, 7.53826753e-04, 2.87009199e-04],\n",
       "       [0.00000000e+00, 0.00000000e+00, 0.00000000e+00],\n",
       "       [0.00000000e+00, 0.00000000e+00, 0.00000000e+00],\n",
       "       [1.59603506e-02, 0.00000000e+00, 1.93184393e-03]], dtype=float32)"
      ]
     },
     "execution_count": 33,
     "metadata": {},
     "output_type": "execute_result"
    }
   ],
   "source": [
    "W[np.isin(adata_sc_filtered.var_names, adata_sp_filtered.var_names)]"
   ]
  }
 ],
 "metadata": {
  "kernelspec": {
   "display_name": "scvi_mps-env",
   "language": "python",
   "name": "python3"
  },
  "language_info": {
   "codemirror_mode": {
    "name": "ipython",
    "version": 3
   },
   "file_extension": ".py",
   "mimetype": "text/x-python",
   "name": "python",
   "nbconvert_exporter": "python",
   "pygments_lexer": "ipython3",
   "version": "3.10.16"
  }
 },
 "nbformat": 4,
 "nbformat_minor": 2
}
