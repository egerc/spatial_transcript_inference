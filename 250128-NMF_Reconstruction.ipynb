{
 "cells": [
  {
   "cell_type": "markdown",
   "metadata": {},
   "source": [
    "## Prepare Environment"
   ]
  },
  {
   "cell_type": "markdown",
   "metadata": {},
   "source": [
    "### Modules"
   ]
  },
  {
   "cell_type": "code",
   "execution_count": 1,
   "metadata": {},
   "outputs": [
    {
     "name": "stderr",
     "output_type": "stream",
     "text": [
      "/opt/homebrew/Caskroom/miniforge/base/envs/scvi_mps-env/lib/python3.10/site-packages/tqdm/auto.py:21: TqdmWarning: IProgress not found. Please update jupyter and ipywidgets. See https://ipywidgets.readthedocs.io/en/stable/user_install.html\n",
      "  from .autonotebook import tqdm as notebook_tqdm\n"
     ]
    }
   ],
   "source": [
    "from pathlib import Path\n",
    "from typing import Union\n",
    "\n",
    "import numpy as np\n",
    "import pandas as pd\n",
    "import torch\n",
    "import scvi\n",
    "import scanpy as sc\n",
    "import sklearn\n",
    "\n",
    "import matplotlib.pyplot as plt\n"
   ]
  },
  {
   "cell_type": "code",
   "execution_count": 2,
   "metadata": {},
   "outputs": [
    {
     "name": "stdout",
     "output_type": "stream",
     "text": [
      "True False\n"
     ]
    }
   ],
   "source": [
    "print(\n",
    "    torch.backends.mps.is_available(),\n",
    "    torch.cuda.is_available()\n",
    ")"
   ]
  },
  {
   "cell_type": "markdown",
   "metadata": {},
   "source": [
    "### Utils"
   ]
  },
  {
   "cell_type": "code",
   "execution_count": 3,
   "metadata": {},
   "outputs": [],
   "source": [
    "def create_folders(base_path: str, structure: dict, current_path: Union[str, Path] = None) -> None:\n",
    "    if current_path is None:\n",
    "        current_path = Path(base_path)\n",
    "    Path(current_path).mkdir(exist_ok=True)\n",
    "    for key, value in structure.items():\n",
    "        new_path = current_path / str(key)\n",
    "        if isinstance(value, dict):\n",
    "            Path(new_path).mkdir(exist_ok=True)\n",
    "            create_folders(base_path, value, new_path)"
   ]
  },
  {
   "cell_type": "markdown",
   "metadata": {},
   "source": [
    "### Folder Structure"
   ]
  },
  {
   "cell_type": "code",
   "execution_count": 4,
   "metadata": {},
   "outputs": [],
   "source": [
    "create_folders(\n",
    "    str(Path.cwd()),\n",
    "    {\n",
    "        \"data\": {\n",
    "            \"inputQuery\": {},\n",
    "            \"inputRef\": {},\n",
    "            \"nico_out\": {},\n",
    "        }\n",
    "    }\n",
    ")"
   ]
  },
  {
   "cell_type": "markdown",
   "metadata": {},
   "source": [
    "### Dataloading"
   ]
  },
  {
   "cell_type": "code",
   "execution_count": 5,
   "metadata": {},
   "outputs": [
    {
     "data": {
      "text/plain": [
       "(AnnData object with n_obs × n_vars = 7416 × 203\n",
       "     obs: 'umi_sct', 'log_umi_sct', 'gene_sct', 'log_gene_sct', 'umi_per_gene_sct', 'log_umi_per_gene_sct', 'leiden0.4', 'leiden0.5', 'nico_ct'\n",
       "     var: 'Intercept_sct', 'log_umi_sct', 'theta_sct', 'Intercept_step1_sct', 'log_umi_step1_sct', 'dispersion_step1_sct', 'genes_step1_sct', 'log10_gmean_sct'\n",
       "     uns: 'leiden', 'leiden0.5_colors', 'neighbors', 'pca', 'umap'\n",
       "     obsm: 'X_pca', 'X_umap', 'spatial'\n",
       "     varm: 'PCs'\n",
       "     obsp: 'connectivities', 'distances',\n",
       " AnnData object with n_obs × n_vars = 2239 × 32287\n",
       "     obs: 'cluster')"
      ]
     },
     "execution_count": 5,
     "metadata": {},
     "output_type": "execute_result"
    }
   ],
   "source": [
    "adata_sp = sc.read_h5ad(Path.cwd() / \"data\" / \"nico_out\" / \"nico_celltype_annotation.h5ad\")\n",
    "adata_sc = sc.read_h5ad(Path.cwd() / \"data\" / \"inputRef\" / \"input_ref.h5ad\")\n",
    "adata_sp, adata_sc"
   ]
  },
  {
   "cell_type": "markdown",
   "metadata": {},
   "source": [
    "### Dataprep"
   ]
  },
  {
   "cell_type": "code",
   "execution_count": 6,
   "metadata": {},
   "outputs": [
    {
     "data": {
      "text/plain": [
       "{'BZE',\n",
       " 'Blood vasc.',\n",
       " 'Cycling/GC B cell',\n",
       " 'Glial',\n",
       " 'Goblet',\n",
       " 'Lymphatic',\n",
       " 'MZE',\n",
       " 'Macrophage',\n",
       " 'Paneth',\n",
       " 'Plasma',\n",
       " 'Rest B',\n",
       " 'Stem/TA',\n",
       " 'Stroma',\n",
       " 'T cell',\n",
       " 'TZE',\n",
       " 'Tuft',\n",
       " 'cDC/monocyte',\n",
       " 'neurons/enteroendocrine',\n",
       " 'pDC'}"
      ]
     },
     "execution_count": 6,
     "metadata": {},
     "output_type": "execute_result"
    }
   ],
   "source": [
    "# Choose one celltype from the available shared types to filter adata objects with\n",
    "set.intersection(\n",
    "    set(adata_sc.obs[\"cluster\"]),\n",
    "    set(adata_sp.obs[\"nico_ct\"])\n",
    ")"
   ]
  },
  {
   "cell_type": "code",
   "execution_count": 7,
   "metadata": {},
   "outputs": [
    {
     "data": {
      "text/plain": [
       "(AnnData object with n_obs × n_vars = 420 × 32287\n",
       "     obs: 'cluster',\n",
       " AnnData object with n_obs × n_vars = 997 × 203\n",
       "     obs: 'umi_sct', 'log_umi_sct', 'gene_sct', 'log_gene_sct', 'umi_per_gene_sct', 'log_umi_per_gene_sct', 'leiden0.4', 'leiden0.5', 'nico_ct'\n",
       "     var: 'Intercept_sct', 'log_umi_sct', 'theta_sct', 'Intercept_step1_sct', 'log_umi_step1_sct', 'dispersion_step1_sct', 'genes_step1_sct', 'log10_gmean_sct'\n",
       "     uns: 'leiden', 'leiden0.5_colors', 'neighbors', 'pca', 'umap'\n",
       "     obsm: 'X_pca', 'X_umap', 'spatial'\n",
       "     varm: 'PCs'\n",
       "     obsp: 'connectivities', 'distances')"
      ]
     },
     "execution_count": 7,
     "metadata": {},
     "output_type": "execute_result"
    }
   ],
   "source": [
    "celltype = \"Stem/TA\"\n",
    "adata_sc_filtered = adata_sc[adata_sc.obs[\"cluster\"] == celltype].copy()\n",
    "adata_sp_filtered = adata_sp[adata_sp.obs[\"nico_ct\"] == celltype].copy()\n",
    "adata_sc_filtered, adata_sp_filtered"
   ]
  },
  {
   "cell_type": "markdown",
   "metadata": {},
   "source": [
    "## Benchmarking"
   ]
  },
  {
   "cell_type": "code",
   "execution_count": 8,
   "metadata": {},
   "outputs": [],
   "source": [
    "model_nmf = sklearn.decomposition.NMF(\n",
    "    n_components=3,\n",
    ")"
   ]
  },
  {
   "cell_type": "code",
   "execution_count": 11,
   "metadata": {},
   "outputs": [
    {
     "name": "stderr",
     "output_type": "stream",
     "text": [
      "/opt/homebrew/Caskroom/miniforge/base/envs/scvi_mps-env/lib/python3.10/site-packages/sklearn/decomposition/_nmf.py:1742: ConvergenceWarning: Maximum number of iterations 200 reached. Increase it to improve convergence.\n",
      "  warnings.warn(\n"
     ]
    }
   ],
   "source": [
    "W = model_nmf.fit_transform(\n",
    "   X=adata_sc_filtered.X.transpose() \n",
    ")\n",
    "H = model_nmf.components_"
   ]
  },
  {
   "cell_type": "code",
   "execution_count": 12,
   "metadata": {},
   "outputs": [
    {
     "data": {
      "text/plain": [
       "4.443471908569336"
      ]
     },
     "execution_count": 12,
     "metadata": {},
     "output_type": "execute_result"
    }
   ],
   "source": [
    "sklearn.metrics.mean_squared_error(\n",
    "    adata_sc_filtered.X.transpose().toarray(),\n",
    "    W @ H\n",
    ")"
   ]
  },
  {
   "cell_type": "code",
   "execution_count": 13,
   "metadata": {},
   "outputs": [
    {
     "data": {
      "text/plain": [
       "(420,)"
      ]
     },
     "execution_count": 13,
     "metadata": {},
     "output_type": "execute_result"
    }
   ],
   "source": [
    "(W @ H).mean(axis=0).shape"
   ]
  },
  {
   "cell_type": "code",
   "execution_count": 23,
   "metadata": {},
   "outputs": [
    {
     "data": {
      "image/png": "[encoded data removed]",
      "text/plain": [
       "<Figure size 1400x400 with 2 Axes>"
      ]
     },
     "metadata": {},
     "output_type": "display_data"
    },
    {
     "name": "stdout",
     "output_type": "stream",
     "text": [
      "Correlation Coeff Gene Reconstruction: 0.9999169659970978 \n",
      "Correlation Coeff Cell Reconstruction: 0.9769245072450792\n"
     ]
    }
   ],
   "source": [
    "fig, axs = plt.subplots(1, 2, figsize=(14,4))\n",
    "\n",
    "axs[0].scatter(\n",
    "    adata_sc_filtered.X.transpose().toarray().mean(axis=1),\n",
    "    (W @ H).mean(axis=1),\n",
    ")\n",
    "axs[0].set_title(\"Correlation Mean Transcripts per gene reconstruction\")\n",
    "axs[0].set_xlabel(\"Mean reconstructed transcripts per gene\")\n",
    "axs[0].set_ylabel(\"Mean transcripts per gene\")\n",
    "\n",
    "axs[1].scatter(\n",
    "    adata_sc_filtered.X.transpose().toarray().mean(axis=0),\n",
    "    (W @ H).mean(axis=0),\n",
    ")\n",
    "axs[1].set_title(\"Correlation Mean Transcripts per cell reconstruction\")\n",
    "axs[1].set_xlabel(\"Mean reconstructed transcripts per cell\")\n",
    "axs[1].set_ylabel(\"Mean transcripts per cell\")\n",
    "plt.show()\n",
    "\n",
    "print(\n",
    "    f\"Correlation Coeff Gene Reconstruction: {np.corrcoef(adata_sc_filtered.X.transpose().toarray().mean(axis=1), (W @ H).mean(axis=1))[0, 1]}\",\n",
    "    f\"\\nCorrelation Coeff Cell Reconstruction: {np.corrcoef(adata_sc_filtered.X.transpose().toarray().mean(axis=0), (W @ H).mean(axis=0))[0, 1]}\",\n",
    ")"
   ]
  },
  {
   "cell_type": "code",
   "execution_count": 15,
   "metadata": {},
   "outputs": [
    {
     "data": {
      "text/plain": [
       "np.float64(0.9999169659970978)"
      ]
     },
     "execution_count": 15,
     "metadata": {},
     "output_type": "execute_result"
    }
   ],
   "source": [
    "np.corrcoef(adata_sc_filtered.X.transpose().toarray().mean(axis=1), (W @ H).mean(axis=1))[0, 1]"
   ]
  },
  {
   "cell_type": "code",
   "execution_count": null,
   "metadata": {},
   "outputs": [],
   "source": []
  },
  {
   "cell_type": "code",
   "execution_count": 16,
   "metadata": {},
   "outputs": [
    {
     "data": {
      "text/plain": [
       "<matplotlib.collections.PathCollection at 0x15b8d4610>"
      ]
     },
     "execution_count": 16,
     "metadata": {},
     "output_type": "execute_result"
    },
    {
     "data": {
      "image/png": "[encoded data removed]",
      "text/plain": [
       "<Figure size 640x480 with 1 Axes>"
      ]
     },
     "metadata": {},
     "output_type": "display_data"
    }
   ],
   "source": [
    "plt.scatter(\n",
    "    adata_sc_filtered.X.transpose().toarray().mean(axis=1),\n",
    "    (W @ H).mean(axis=1)\n",
    ")"
   ]
  },
  {
   "cell_type": "code",
   "execution_count": 17,
   "metadata": {},
   "outputs": [
    {
     "data": {
      "text/plain": [
       "array([[0.0000000e+00, 0.0000000e+00, 0.0000000e+00, ..., 0.0000000e+00,\n",
       "        0.0000000e+00, 0.0000000e+00],\n",
       "       [0.0000000e+00, 0.0000000e+00, 0.0000000e+00, ..., 0.0000000e+00,\n",
       "        0.0000000e+00, 0.0000000e+00],\n",
       "       [2.9510936e-02, 1.8198304e-02, 2.5800593e-02, ..., 0.0000000e+00,\n",
       "        0.0000000e+00, 1.3450718e-04],\n",
       "       ...,\n",
       "       [7.1688294e+00, 7.3652601e+00, 7.0621791e+00, ..., 3.2995173e-01,\n",
       "        2.5976071e-01, 1.1488306e-01],\n",
       "       [5.8485281e-01, 7.6094228e-01, 5.8881468e-01, ..., 3.7522033e-02,\n",
       "        3.1478971e-02, 1.1433557e-02],\n",
       "       [9.1662025e-03, 1.2366830e-02, 6.9186175e-03, ..., 5.4275573e-05,\n",
       "        2.2734080e-04, 0.0000000e+00]], dtype=float32)"
      ]
     },
     "execution_count": 17,
     "metadata": {},
     "output_type": "execute_result"
    }
   ],
   "source": [
    "W @ H"
   ]
  },
  {
   "cell_type": "code",
   "execution_count": 18,
   "metadata": {},
   "outputs": [
    {
     "data": {
      "text/plain": [
       "array([[0., 0., 0., ..., 0., 0., 0.],\n",
       "       [0., 0., 0., ..., 0., 0., 0.],\n",
       "       [0., 0., 0., ..., 0., 0., 0.],\n",
       "       ...,\n",
       "       [2., 4., 4., ..., 0., 2., 2.],\n",
       "       [0., 0., 0., ..., 0., 0., 0.],\n",
       "       [0., 0., 0., ..., 0., 0., 0.]], dtype=float32)"
      ]
     },
     "execution_count": 18,
     "metadata": {},
     "output_type": "execute_result"
    }
   ],
   "source": [
    "adata_sc_filtered.X.transpose().toarray()"
   ]
  },
  {
   "cell_type": "code",
   "execution_count": 19,
   "metadata": {},
   "outputs": [
    {
     "data": {
      "text/plain": [
       "{'n_components': 3,\n",
       " 'init': None,\n",
       " 'beta_loss': 'frobenius',\n",
       " 'tol': 0.0001,\n",
       " 'max_iter': 200,\n",
       " 'random_state': None,\n",
       " 'alpha_W': 0.0,\n",
       " 'alpha_H': 'same',\n",
       " 'l1_ratio': 0.0,\n",
       " 'verbose': 0,\n",
       " 'solver': 'cd',\n",
       " 'shuffle': False,\n",
       " 'n_features_in_': 420,\n",
       " '_n_components': 3,\n",
       " '_beta_loss': 2,\n",
       " 'reconstruction_err_': np.float32(7758.449),\n",
       " 'n_components_': 3,\n",
       " 'components_': array([[21.26161   , 28.685678  , 16.04819   , ...,  0.12589577,\n",
       "          0.52733195,  0.        ],\n",
       "        [ 1.7029438 ,  0.        , 13.323036  , ...,  2.7921336 ,\n",
       "          1.4286817 ,  0.93393123],\n",
       "        [17.670965  , 10.897031  , 15.449235  , ...,  0.        ,\n",
       "          0.        ,  0.08054207]], dtype=float32),\n",
       " 'n_iter_': 200}"
      ]
     },
     "execution_count": 19,
     "metadata": {},
     "output_type": "execute_result"
    }
   ],
   "source": [
    "model_nmf.__dict__"
   ]
  },
  {
   "cell_type": "code",
   "execution_count": 20,
   "metadata": {},
   "outputs": [],
   "source": [
    "H = model_nmf.components_"
   ]
  },
  {
   "cell_type": "code",
   "execution_count": 21,
   "metadata": {},
   "outputs": [
    {
     "data": {
      "text/plain": [
       "array([[0.0000000e+00, 0.0000000e+00, 0.0000000e+00, ..., 0.0000000e+00,\n",
       "        0.0000000e+00, 0.0000000e+00],\n",
       "       [0.0000000e+00, 0.0000000e+00, 0.0000000e+00, ..., 0.0000000e+00,\n",
       "        0.0000000e+00, 0.0000000e+00],\n",
       "       [2.9510936e-02, 1.8198304e-02, 2.5800593e-02, ..., 0.0000000e+00,\n",
       "        0.0000000e+00, 1.3450718e-04],\n",
       "       ...,\n",
       "       [7.1688294e+00, 7.3652601e+00, 7.0621791e+00, ..., 3.2995173e-01,\n",
       "        2.5976071e-01, 1.1488306e-01],\n",
       "       [5.8485281e-01, 7.6094228e-01, 5.8881468e-01, ..., 3.7522033e-02,\n",
       "        3.1478971e-02, 1.1433557e-02],\n",
       "       [9.1662025e-03, 1.2366830e-02, 6.9186175e-03, ..., 5.4275573e-05,\n",
       "        2.2734080e-04, 0.0000000e+00]], dtype=float32)"
      ]
     },
     "execution_count": 21,
     "metadata": {},
     "output_type": "execute_result"
    }
   ],
   "source": [
    "W @ H"
   ]
  },
  {
   "cell_type": "code",
   "execution_count": 22,
   "metadata": {},
   "outputs": [
    {
     "ename": "NameError",
     "evalue": "name 'res' is not defined",
     "output_type": "error",
     "traceback": [
      "\u001b[0;31m---------------------------------------------------------------------------\u001b[0m",
      "\u001b[0;31mNameError\u001b[0m                                 Traceback (most recent call last)",
      "\u001b[1;32m/Users/egerc/Documents/Projects/spatial_transcript_inference/250128-NMF_Reconstruction.ipynb Cell 28\u001b[0m line \u001b[0;36m1\n\u001b[0;32m----> <a href='vscode-notebook-cell:/Users/egerc/Documents/Projects/spatial_transcript_inference/250128-NMF_Reconstruction.ipynb#X41sZmlsZQ%3D%3D?line=0'>1</a>\u001b[0m res\n",
      "\u001b[0;31mNameError\u001b[0m: name 'res' is not defined"
     ]
    }
   ],
   "source": [
    "res"
   ]
  },
  {
   "cell_type": "code",
   "execution_count": null,
   "metadata": {},
   "outputs": [
    {
     "data": {
      "text/plain": [
       "<Compressed Sparse Column sparse matrix of dtype 'float32'\n",
       "\twith 2255357 stored elements and shape (32287, 420)>"
      ]
     },
     "execution_count": 18,
     "metadata": {},
     "output_type": "execute_result"
    }
   ],
   "source": [
    "adata_sc_filtered.X.transpose()"
   ]
  },
  {
   "cell_type": "code",
   "execution_count": null,
   "metadata": {},
   "outputs": [
    {
     "data": {
      "text/plain": [
       "array([False, False, False, ..., False, False, False])"
      ]
     },
     "execution_count": 27,
     "metadata": {},
     "output_type": "execute_result"
    }
   ],
   "source": [
    "np.isin(adata_sc_filtered.var_names, adata_sp_filtered.var_names)"
   ]
  },
  {
   "cell_type": "code",
   "execution_count": null,
   "metadata": {},
   "outputs": [
    {
     "data": {
      "text/plain": [
       "{'Acsl1',\n",
       " 'Acta2',\n",
       " 'Ada',\n",
       " 'Adgrd1',\n",
       " 'Adgrf5',\n",
       " 'Adra1a',\n",
       " 'Adra1b',\n",
       " 'Adra2a',\n",
       " 'Adra2b',\n",
       " 'Adrb1',\n",
       " 'Adrb2',\n",
       " 'Adrb3',\n",
       " 'Agr3',\n",
       " 'Apob',\n",
       " 'Avil',\n",
       " 'C1qb',\n",
       " 'C1qc',\n",
       " 'Cadm1',\n",
       " 'Ccl9',\n",
       " 'Ccnl2',\n",
       " 'Ccr3',\n",
       " 'Ccr7',\n",
       " 'Cd14',\n",
       " 'Cd27',\n",
       " 'Cd34',\n",
       " 'Cd3d',\n",
       " 'Cd3e',\n",
       " 'Cd4',\n",
       " 'Cd44',\n",
       " 'Cd79a',\n",
       " 'Cd79b',\n",
       " 'Cd8a',\n",
       " 'Cd8b1',\n",
       " 'Chrm1',\n",
       " 'Chrm2',\n",
       " 'Chrm3',\n",
       " 'Chrm4',\n",
       " 'Clca3b',\n",
       " 'Clec4a2',\n",
       " 'Clec9a',\n",
       " 'Cmc1',\n",
       " 'Cnr1',\n",
       " 'Cps1',\n",
       " 'Crp',\n",
       " 'Cspg4',\n",
       " 'Cxcr5',\n",
       " 'Cysltr1',\n",
       " 'Cysltr2',\n",
       " 'Drd1',\n",
       " 'Drd3',\n",
       " 'Drd4',\n",
       " 'Elavl3',\n",
       " 'Etv1',\n",
       " 'Fcgr4',\n",
       " 'Fcna',\n",
       " 'Ffar1',\n",
       " 'Ffar2',\n",
       " 'Ffar3',\n",
       " 'Ffar4',\n",
       " 'Foxp3',\n",
       " 'Fzd1',\n",
       " 'Fzd10',\n",
       " 'Fzd2',\n",
       " 'Fzd3',\n",
       " 'Fzd4',\n",
       " 'Fzd5',\n",
       " 'Fzd6',\n",
       " 'Fzd7',\n",
       " 'Fzd8',\n",
       " 'Fzd9',\n",
       " 'Galr1',\n",
       " 'Galr2',\n",
       " 'Galr3',\n",
       " 'Gipr',\n",
       " 'Glp1r',\n",
       " 'Glp2r',\n",
       " 'Gpbar1',\n",
       " 'Gper1',\n",
       " 'Gpr119',\n",
       " 'Gpr174',\n",
       " 'Gpr18',\n",
       " 'Gpr31b',\n",
       " 'Gpr34',\n",
       " 'Gpr55',\n",
       " 'Gpr84',\n",
       " 'Gpr87',\n",
       " 'Gzmb',\n",
       " 'H2-Eb1',\n",
       " 'Hhex',\n",
       " 'Hmgb2',\n",
       " 'Hrh1',\n",
       " 'Hrh2',\n",
       " 'Hrh3',\n",
       " 'Htr1b',\n",
       " 'Htr2a',\n",
       " 'Htr2b',\n",
       " 'Htr4',\n",
       " 'Htr5b',\n",
       " 'Htr7',\n",
       " 'Icos',\n",
       " 'Ifnar1',\n",
       " 'Ifng',\n",
       " 'Ighd',\n",
       " 'Il10',\n",
       " 'Il3ra',\n",
       " 'Il4',\n",
       " 'Il5',\n",
       " 'Il7r',\n",
       " 'Isl1',\n",
       " 'Itgae',\n",
       " 'Itgam',\n",
       " 'Jaml',\n",
       " 'Kiss1r',\n",
       " 'Kit',\n",
       " 'Klk1',\n",
       " 'Krt7',\n",
       " 'Lamp3',\n",
       " 'Lct',\n",
       " 'Lgr5',\n",
       " 'Lmx1a',\n",
       " 'Lpar1',\n",
       " 'Lpar2',\n",
       " 'Lpar3',\n",
       " 'Lpar4',\n",
       " 'Lpar5',\n",
       " 'Lpar6',\n",
       " 'Lrmp',\n",
       " 'Ltb4r1',\n",
       " 'Ltb4r2',\n",
       " 'Ly6g',\n",
       " 'Maged2',\n",
       " 'Maoa',\n",
       " 'Marcksl1',\n",
       " 'Mboat4',\n",
       " 'Mki67',\n",
       " 'Mptx2',\n",
       " 'Ms4a1',\n",
       " 'Mzb1',\n",
       " 'Neat1',\n",
       " 'Nes',\n",
       " 'Net1',\n",
       " 'Neurog3',\n",
       " 'Nkg7',\n",
       " 'Nlrp6',\n",
       " 'Nt5e',\n",
       " 'P2ry10',\n",
       " 'P2ry10b',\n",
       " 'Pax6',\n",
       " 'Phox2b',\n",
       " 'Plb1',\n",
       " 'Prf1',\n",
       " 'Ptgdr',\n",
       " 'Ptgdr2',\n",
       " 'Ptger1',\n",
       " 'Ptger2',\n",
       " 'Ptger3',\n",
       " 'Ptger4',\n",
       " 'Ptgfr',\n",
       " 'Ptgir',\n",
       " 'Ptprcap',\n",
       " 'Pzp',\n",
       " 'Rcor2',\n",
       " 'Rgs4',\n",
       " 'S100b',\n",
       " 'S1pr1',\n",
       " 'S1pr2',\n",
       " 'S1pr3',\n",
       " 'S1pr4',\n",
       " 'S1pr5',\n",
       " 'Scarb1',\n",
       " 'Scn3a',\n",
       " 'Sctr',\n",
       " 'Sdc1',\n",
       " 'Sell',\n",
       " 'Slc12a2',\n",
       " 'Slc18a1',\n",
       " 'Slc26a4',\n",
       " 'Slc2a2',\n",
       " 'Slc51a',\n",
       " 'Slc5a1',\n",
       " 'Smo',\n",
       " 'Sox10',\n",
       " 'Sox4',\n",
       " 'Sstr1',\n",
       " 'Sstr2',\n",
       " 'Sstr3',\n",
       " 'Sstr4',\n",
       " 'Sstr5',\n",
       " 'Stmn1',\n",
       " 'Taar4',\n",
       " 'Tbx21',\n",
       " 'Tbxa2r',\n",
       " 'Thy1',\n",
       " 'Tigit',\n",
       " 'Tm4sf4',\n",
       " 'Tnfrsf21',\n",
       " 'Tpsb2',\n",
       " 'Trdc',\n",
       " 'Trpm5',\n",
       " 'Tspan13',\n",
       " 'Txndc5',\n",
       " 'Vcan',\n",
       " 'Vim'}"
      ]
     },
     "execution_count": 15,
     "metadata": {},
     "output_type": "execute_result"
    }
   ],
   "source": [
    "set.intersection(\n",
    "    set(adata_sp_filtered.var_names),\n",
    "    set(adata_sc_filtered.var_names),\n",
    ")"
   ]
  }
 ],
 "metadata": {
  "kernelspec": {
   "display_name": "scvi_mps-env",
   "language": "python",
   "name": "python3"
  },
  "language_info": {
   "codemirror_mode": {
    "name": "ipython",
    "version": 3
   },
   "file_extension": ".py",
   "mimetype": "text/x-python",
   "name": "python",
   "nbconvert_exporter": "python",
   "pygments_lexer": "ipython3",
   "version": "3.10.16"
  }
 },
 "nbformat": 4,
 "nbformat_minor": 2
}
