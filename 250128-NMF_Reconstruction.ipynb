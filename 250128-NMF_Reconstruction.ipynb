{
 "cells": [
  {
   "cell_type": "markdown",
   "metadata": {},
   "source": [
    "## Prepare Environment"
   ]
  },
  {
   "cell_type": "markdown",
   "metadata": {},
   "source": [
    "### Modules"
   ]
  },
  {
   "cell_type": "code",
   "execution_count": 518,
   "metadata": {},
   "outputs": [],
   "source": [
    "from pathlib import Path\n",
    "from typing import Union\n",
    "import warnings\n",
    "\n",
    "import numpy as np\n",
    "np.random.seed(5)\n",
    "import pandas as pd\n",
    "import torch\n",
    "import scvi\n",
    "import scanpy as sc\n",
    "import sklearn\n",
    "\n",
    "import matplotlib.pyplot as plt\n"
   ]
  },
  {
   "cell_type": "code",
   "execution_count": 519,
   "metadata": {},
   "outputs": [
    {
     "name": "stdout",
     "output_type": "stream",
     "text": [
      "True False\n"
     ]
    }
   ],
   "source": [
    "print(\n",
    "    torch.backends.mps.is_available(),\n",
    "    torch.cuda.is_available()\n",
    ")"
   ]
  },
  {
   "cell_type": "markdown",
   "metadata": {},
   "source": [
    "### Utils"
   ]
  },
  {
   "cell_type": "code",
   "execution_count": 520,
   "metadata": {},
   "outputs": [],
   "source": [
    "def create_folders(base_path: str, structure: dict, current_path: Union[str, Path] = None) -> None:\n",
    "    if current_path is None:\n",
    "        current_path = Path(base_path)\n",
    "    Path(current_path).mkdir(exist_ok=True)\n",
    "    for key, value in structure.items():\n",
    "        new_path = current_path / str(key)\n",
    "        if isinstance(value, dict):\n",
    "            Path(new_path).mkdir(exist_ok=True)\n",
    "            create_folders(base_path, value, new_path)"
   ]
  },
  {
   "cell_type": "markdown",
   "metadata": {},
   "source": [
    "### Folder Structure"
   ]
  },
  {
   "cell_type": "code",
   "execution_count": 521,
   "metadata": {},
   "outputs": [],
   "source": [
    "create_folders(\n",
    "    str(Path.cwd()),\n",
    "    {\n",
    "        \"data\": {\n",
    "            \"inputQuery\": {},\n",
    "            \"inputRef\": {},\n",
    "            \"nico_out\": {},\n",
    "        }\n",
    "    }\n",
    ")"
   ]
  },
  {
   "cell_type": "markdown",
   "metadata": {},
   "source": [
    "### Dataloading"
   ]
  },
  {
   "cell_type": "code",
   "execution_count": 522,
   "metadata": {},
   "outputs": [
    {
     "data": {
      "text/plain": [
       "(AnnData object with n_obs × n_vars = 7416 × 203\n",
       "     obs: 'umi_sct', 'log_umi_sct', 'gene_sct', 'log_gene_sct', 'umi_per_gene_sct', 'log_umi_per_gene_sct', 'leiden0.4', 'leiden0.5', 'nico_ct'\n",
       "     var: 'Intercept_sct', 'log_umi_sct', 'theta_sct', 'Intercept_step1_sct', 'log_umi_step1_sct', 'dispersion_step1_sct', 'genes_step1_sct', 'log10_gmean_sct'\n",
       "     uns: 'leiden', 'leiden0.5_colors', 'neighbors', 'pca', 'umap'\n",
       "     obsm: 'X_pca', 'X_umap', 'spatial'\n",
       "     varm: 'PCs'\n",
       "     obsp: 'connectivities', 'distances',\n",
       " AnnData object with n_obs × n_vars = 2239 × 32287\n",
       "     obs: 'cluster')"
      ]
     },
     "execution_count": 522,
     "metadata": {},
     "output_type": "execute_result"
    }
   ],
   "source": [
    "adata_sp = sc.read_h5ad(Path.cwd() / \"data\" / \"nico_out\" / \"nico_celltype_annotation.h5ad\")\n",
    "adata_sc = sc.read_h5ad(Path.cwd() / \"data\" / \"inputRef\" / \"input_ref.h5ad\")\n",
    "adata_sp, adata_sc"
   ]
  },
  {
   "cell_type": "markdown",
   "metadata": {},
   "source": [
    "### Dataprep"
   ]
  },
  {
   "cell_type": "code",
   "execution_count": 523,
   "metadata": {},
   "outputs": [
    {
     "data": {
      "text/plain": [
       "{'BZE',\n",
       " 'Blood vasc.',\n",
       " 'Cycling/GC B cell',\n",
       " 'Glial',\n",
       " 'Goblet',\n",
       " 'Lymphatic',\n",
       " 'MZE',\n",
       " 'Macrophage',\n",
       " 'Paneth',\n",
       " 'Plasma',\n",
       " 'Rest B',\n",
       " 'Stem/TA',\n",
       " 'Stroma',\n",
       " 'T cell',\n",
       " 'TZE',\n",
       " 'Tuft',\n",
       " 'cDC/monocyte',\n",
       " 'neurons/enteroendocrine',\n",
       " 'pDC'}"
      ]
     },
     "execution_count": 523,
     "metadata": {},
     "output_type": "execute_result"
    }
   ],
   "source": [
    "# Choose one celltype from the available shared types to filter adata objects with\n",
    "set.intersection(\n",
    "    set(adata_sc.obs[\"cluster\"]),\n",
    "    set(adata_sp.obs[\"nico_ct\"])\n",
    ")"
   ]
  },
  {
   "cell_type": "code",
   "execution_count": 524,
   "metadata": {},
   "outputs": [
    {
     "data": {
      "text/plain": [
       "(AnnData object with n_obs × n_vars = 420 × 32287\n",
       "     obs: 'cluster',\n",
       " AnnData object with n_obs × n_vars = 997 × 203\n",
       "     obs: 'umi_sct', 'log_umi_sct', 'gene_sct', 'log_gene_sct', 'umi_per_gene_sct', 'log_umi_per_gene_sct', 'leiden0.4', 'leiden0.5', 'nico_ct'\n",
       "     var: 'Intercept_sct', 'log_umi_sct', 'theta_sct', 'Intercept_step1_sct', 'log_umi_step1_sct', 'dispersion_step1_sct', 'genes_step1_sct', 'log10_gmean_sct'\n",
       "     uns: 'leiden', 'leiden0.5_colors', 'neighbors', 'pca', 'umap'\n",
       "     obsm: 'X_pca', 'X_umap', 'spatial'\n",
       "     varm: 'PCs'\n",
       "     obsp: 'connectivities', 'distances')"
      ]
     },
     "execution_count": 524,
     "metadata": {},
     "output_type": "execute_result"
    }
   ],
   "source": [
    "celltype = \"Stem/TA\"\n",
    "adata_sc_filtered = adata_sc[adata_sc.obs[\"cluster\"] == celltype].copy()\n",
    "adata_sp_filtered = adata_sp[adata_sp.obs[\"nico_ct\"] == celltype].copy()\n",
    "adata_sc_filtered, adata_sp_filtered"
   ]
  },
  {
   "cell_type": "markdown",
   "metadata": {},
   "source": [
    "## Benchmarking"
   ]
  },
  {
   "cell_type": "code",
   "execution_count": 629,
   "metadata": {},
   "outputs": [
    {
     "name": "stderr",
     "output_type": "stream",
     "text": [
      "/opt/homebrew/Caskroom/miniforge/base/envs/scvi_mps-env/lib/python3.10/site-packages/sklearn/decomposition/_nmf.py:1742: ConvergenceWarning: Maximum number of iterations 200 reached. Increase it to improve convergence.\n",
      "  warnings.warn(\n"
     ]
    },
    {
     "data": {
      "text/plain": [
       "4.443472385406494"
      ]
     },
     "execution_count": 629,
     "metadata": {},
     "output_type": "execute_result"
    }
   ],
   "source": [
    "model_nmf = sklearn.decomposition.NMF(\n",
    "    n_components=3,\n",
    ")\n",
    "W = model_nmf.fit_transform(\n",
    "   X=adata_sc_filtered.X.transpose() \n",
    ")\n",
    "H = model_nmf.components_\n",
    "sklearn.metrics.mean_squared_error(\n",
    "    adata_sc_filtered.X.transpose().toarray(),\n",
    "    W @ H\n",
    ")"
   ]
  },
  {
   "cell_type": "code",
   "execution_count": 526,
   "metadata": {},
   "outputs": [
    {
     "data": {
      "image/png": "[encoded data removed]",
      "text/plain": [
       "<Figure size 1400x400 with 2 Axes>"
      ]
     },
     "metadata": {},
     "output_type": "display_data"
    },
    {
     "name": "stdout",
     "output_type": "stream",
     "text": [
      "Correlation Coeff Gene Reconstruction: 0.9999169661479909 \n",
      "Correlation Coeff Cell Reconstruction: 0.9769244920963317\n"
     ]
    }
   ],
   "source": [
    "fig, axs = plt.subplots(1, 2, figsize=(14,4))\n",
    "\n",
    "axs[0].scatter(\n",
    "    adata_sc_filtered.X.transpose().toarray().mean(axis=1),\n",
    "    (W @ H).mean(axis=1),\n",
    ")\n",
    "axs[0].set_title(\"Correlation Mean Transcripts per gene reconstruction\")\n",
    "axs[0].set_xlabel(\"Mean reconstructed transcripts per gene\")\n",
    "axs[0].set_ylabel(\"Mean transcripts per gene\")\n",
    "\n",
    "axs[1].scatter(\n",
    "    adata_sc_filtered.X.transpose().toarray().mean(axis=0),\n",
    "    (W @ H).mean(axis=0),\n",
    ")\n",
    "axs[1].set_title(\"Correlation Mean Transcripts per cell reconstruction\")\n",
    "axs[1].set_xlabel(\"Mean reconstructed transcripts per cell\")\n",
    "axs[1].set_ylabel(\"Mean transcripts per cell\")\n",
    "plt.show()\n",
    "\n",
    "print(\n",
    "    f\"Correlation Coeff Gene Reconstruction: {np.corrcoef(adata_sc_filtered.X.transpose().toarray().mean(axis=1), (W @ H).mean(axis=1))[0, 1]}\",\n",
    "    f\"\\nCorrelation Coeff Cell Reconstruction: {np.corrcoef(adata_sc_filtered.X.transpose().toarray().mean(axis=0), (W @ H).mean(axis=0))[0, 1]}\",\n",
    ")"
   ]
  },
  {
   "cell_type": "code",
   "execution_count": 527,
   "metadata": {},
   "outputs": [
    {
     "data": {
      "text/plain": [
       "array([False, False, False, ..., False, False, False])"
      ]
     },
     "execution_count": 527,
     "metadata": {},
     "output_type": "execute_result"
    }
   ],
   "source": [
    "np.isin(adata_sc_filtered.var_names, adata_sp_filtered.var_names)"
   ]
  },
  {
   "cell_type": "code",
   "execution_count": 528,
   "metadata": {},
   "outputs": [
    {
     "data": {
      "text/plain": [
       "AnnData object with n_obs × n_vars = 997 × 203\n",
       "    obs: 'umi_sct', 'log_umi_sct', 'gene_sct', 'log_gene_sct', 'umi_per_gene_sct', 'log_umi_per_gene_sct', 'leiden0.4', 'leiden0.5', 'nico_ct'\n",
       "    var: 'Intercept_sct', 'log_umi_sct', 'theta_sct', 'Intercept_step1_sct', 'log_umi_step1_sct', 'dispersion_step1_sct', 'genes_step1_sct', 'log10_gmean_sct'\n",
       "    uns: 'leiden', 'leiden0.5_colors', 'neighbors', 'pca', 'umap'\n",
       "    obsm: 'X_pca', 'X_umap', 'spatial'\n",
       "    varm: 'PCs'\n",
       "    obsp: 'connectivities', 'distances'"
      ]
     },
     "execution_count": 528,
     "metadata": {},
     "output_type": "execute_result"
    }
   ],
   "source": [
    "adata_sp_filtered"
   ]
  },
  {
   "cell_type": "code",
   "execution_count": 529,
   "metadata": {},
   "outputs": [
    {
     "data": {
      "text/plain": [
       "['Acsl1',\n",
       " 'Acta2',\n",
       " 'Ada',\n",
       " 'Adgrd1',\n",
       " 'Adgrf5',\n",
       " 'Adra1a',\n",
       " 'Adra1b',\n",
       " 'Adra2a',\n",
       " 'Adra2b',\n",
       " 'Adrb1']"
      ]
     },
     "execution_count": 529,
     "metadata": {},
     "output_type": "execute_result"
    }
   ],
   "source": [
    "list(adata_sp_filtered.var_names)[0:10]"
   ]
  },
  {
   "cell_type": "code",
   "execution_count": 530,
   "metadata": {},
   "outputs": [
    {
     "data": {
      "text/plain": [
       "array([[21.26177   , 28.685902  , 16.048315  , ...,  0.12589236,\n",
       "         0.52733326,  0.        ],\n",
       "       [ 1.7029655 ,  0.        , 13.322957  , ...,  2.7921085 ,\n",
       "         1.428668  ,  0.9339231 ],\n",
       "       [17.670872  , 10.896947  , 15.449143  , ...,  0.        ,\n",
       "         0.        ,  0.08054108]], dtype=float32)"
      ]
     },
     "execution_count": 530,
     "metadata": {},
     "output_type": "execute_result"
    }
   ],
   "source": [
    "H"
   ]
  },
  {
   "cell_type": "code",
   "execution_count": 531,
   "metadata": {},
   "outputs": [
    {
     "data": {
      "text/plain": [
       "array([[2.70333923e-02, 8.11414607e-03, 2.19436847e-02],\n",
       "       [0.00000000e+00, 7.13246991e-04, 4.37571056e-04],\n",
       "       [1.54552475e-01, 6.15506656e-02, 3.71021062e-01],\n",
       "       [2.38371134e+00, 4.98333156e-01, 1.05160284e+00],\n",
       "       [0.00000000e+00, 0.00000000e+00, 0.00000000e+00],\n",
       "       [6.57848502e-03, 1.94394384e-02, 1.23391952e-02],\n",
       "       [0.00000000e+00, 0.00000000e+00, 7.51169166e-04],\n",
       "       [0.00000000e+00, 0.00000000e+00, 0.00000000e+00],\n",
       "       [0.00000000e+00, 0.00000000e+00, 0.00000000e+00],\n",
       "       [3.12632904e-03, 9.96426563e-04, 0.00000000e+00],\n",
       "       [0.00000000e+00, 0.00000000e+00, 0.00000000e+00],\n",
       "       [2.56026251e-04, 7.42329925e-04, 9.03962791e-05],\n",
       "       [0.00000000e+00, 0.00000000e+00, 0.00000000e+00],\n",
       "       [1.91159415e-04, 0.00000000e+00, 1.61068572e-04],\n",
       "       [1.46871654e-03, 0.00000000e+00, 0.00000000e+00],\n",
       "       [1.31738500e-03, 0.00000000e+00, 0.00000000e+00],\n",
       "       [4.81556766e-02, 1.29598584e-02, 1.46526262e-01],\n",
       "       [4.03857324e-04, 0.00000000e+00, 0.00000000e+00],\n",
       "       [0.00000000e+00, 1.98208615e-02, 0.00000000e+00],\n",
       "       [0.00000000e+00, 6.35751104e-03, 0.00000000e+00],\n",
       "       [1.46989449e-04, 0.00000000e+00, 0.00000000e+00],\n",
       "       [0.00000000e+00, 0.00000000e+00, 0.00000000e+00],\n",
       "       [1.83316290e-01, 4.63589057e-02, 0.00000000e+00],\n",
       "       [0.00000000e+00, 0.00000000e+00, 9.75942239e-03],\n",
       "       [0.00000000e+00, 0.00000000e+00, 0.00000000e+00],\n",
       "       [0.00000000e+00, 0.00000000e+00, 0.00000000e+00],\n",
       "       [2.04128530e-02, 1.51833137e-02, 2.66375188e-02],\n",
       "       [0.00000000e+00, 0.00000000e+00, 0.00000000e+00],\n",
       "       [0.00000000e+00, 0.00000000e+00, 4.28471621e-03],\n",
       "       [3.79496161e-03, 3.44727421e-03, 3.42798457e-02],\n",
       "       [0.00000000e+00, 0.00000000e+00, 0.00000000e+00],\n",
       "       [1.64816761e-03, 0.00000000e+00, 0.00000000e+00],\n",
       "       [0.00000000e+00, 1.39447523e-03, 5.19666064e-04],\n",
       "       [3.24262500e+00, 1.77502024e+00, 0.00000000e+00],\n",
       "       [0.00000000e+00, 0.00000000e+00, 0.00000000e+00],\n",
       "       [0.00000000e+00, 0.00000000e+00, 0.00000000e+00],\n",
       "       [0.00000000e+00, 0.00000000e+00, 0.00000000e+00],\n",
       "       [0.00000000e+00, 0.00000000e+00, 0.00000000e+00],\n",
       "       [3.66168357e-02, 1.76677201e-02, 5.01624532e-02],\n",
       "       [9.54531878e-02, 1.11911455e-02, 0.00000000e+00],\n",
       "       [3.90763211e+00, 6.54743433e-01, 0.00000000e+00],\n",
       "       [4.24183486e-03, 2.14955769e-02, 0.00000000e+00],\n",
       "       [0.00000000e+00, 2.84758862e-02, 0.00000000e+00],\n",
       "       [1.84849247e-01, 7.66555816e-02, 1.35082930e-01],\n",
       "       [1.56338830e-02, 7.01313093e-06, 4.67426330e-03],\n",
       "       [2.00884650e-03, 1.03284372e-03, 1.64168800e-04],\n",
       "       [1.98396266e-01, 1.28518030e-01, 1.28391176e-01],\n",
       "       [0.00000000e+00, 0.00000000e+00, 0.00000000e+00],\n",
       "       [1.58325825e-02, 4.00405470e-03, 0.00000000e+00],\n",
       "       [4.80643287e-03, 8.81424174e-04, 0.00000000e+00],\n",
       "       [0.00000000e+00, 1.18498795e-03, 0.00000000e+00],\n",
       "       [1.57008239e-03, 0.00000000e+00, 2.43501482e-03],\n",
       "       [1.44309003e-03, 4.78405971e-04, 0.00000000e+00],\n",
       "       [6.91517163e-03, 5.59901539e-03, 0.00000000e+00],\n",
       "       [6.06689788e-02, 7.01737450e-03, 1.52298473e-02],\n",
       "       [0.00000000e+00, 0.00000000e+00, 0.00000000e+00],\n",
       "       [0.00000000e+00, 0.00000000e+00, 0.00000000e+00],\n",
       "       [0.00000000e+00, 0.00000000e+00, 0.00000000e+00],\n",
       "       [0.00000000e+00, 3.11964483e-04, 1.32095977e-03],\n",
       "       [9.15316399e-04, 1.07317301e-03, 0.00000000e+00],\n",
       "       [1.30056360e-04, 0.00000000e+00, 0.00000000e+00],\n",
       "       [1.89261476e-03, 0.00000000e+00, 2.16712570e-03],\n",
       "       [2.57002795e-03, 9.97595768e-03, 0.00000000e+00],\n",
       "       [0.00000000e+00, 0.00000000e+00, 0.00000000e+00],\n",
       "       [0.00000000e+00, 0.00000000e+00, 0.00000000e+00],\n",
       "       [1.22830784e-02, 0.00000000e+00, 6.64940709e-03],\n",
       "       [0.00000000e+00, 0.00000000e+00, 0.00000000e+00],\n",
       "       [1.95335760e-03, 1.05539872e-03, 2.88489345e-03],\n",
       "       [1.95036153e-03, 1.85692532e-03, 3.11338995e-03],\n",
       "       [0.00000000e+00, 0.00000000e+00, 2.21587718e-03],\n",
       "       [0.00000000e+00, 0.00000000e+00, 2.14276649e-03],\n",
       "       [0.00000000e+00, 0.00000000e+00, 9.63344797e-03],\n",
       "       [0.00000000e+00, 0.00000000e+00, 0.00000000e+00],\n",
       "       [7.83634558e-02, 0.00000000e+00, 8.48416463e-02],\n",
       "       [5.14508737e-03, 2.73969490e-03, 2.49161129e-03],\n",
       "       [2.49877200e-02, 0.00000000e+00, 2.24922411e-02],\n",
       "       [1.48847783e+00, 5.92276335e-01, 1.37984467e+00],\n",
       "       [6.31011724e-01, 1.74561873e-01, 1.77092209e-01],\n",
       "       [0.00000000e+00, 0.00000000e+00, 0.00000000e+00],\n",
       "       [8.71836860e-03, 0.00000000e+00, 3.51250055e-03],\n",
       "       [0.00000000e+00, 0.00000000e+00, 0.00000000e+00],\n",
       "       [3.02345743e-05, 0.00000000e+00, 1.22657372e-03],\n",
       "       [1.17523938e-01, 2.09199972e-02, 5.27493283e-02],\n",
       "       [4.01534462e+00, 1.74640155e+00, 3.19664669e+00],\n",
       "       [5.10474085e-04, 0.00000000e+00, 6.92756660e-03],\n",
       "       [5.68332034e-04, 2.82888487e-03, 0.00000000e+00],\n",
       "       [4.19323682e-04, 1.13186041e-04, 0.00000000e+00],\n",
       "       [1.65198743e-03, 0.00000000e+00, 3.76232038e-03],\n",
       "       [0.00000000e+00, 0.00000000e+00, 0.00000000e+00],\n",
       "       [0.00000000e+00, 7.54479915e-05, 0.00000000e+00],\n",
       "       [3.23680550e-04, 0.00000000e+00, 7.19884352e-04],\n",
       "       [0.00000000e+00, 0.00000000e+00, 0.00000000e+00],\n",
       "       [1.42331599e-04, 8.98559578e-04, 0.00000000e+00],\n",
       "       [0.00000000e+00, 0.00000000e+00, 0.00000000e+00],\n",
       "       [8.07099879e-01, 1.78943142e-01, 0.00000000e+00],\n",
       "       [5.88024501e-04, 4.41634469e-03, 1.81512104e-03],\n",
       "       [0.00000000e+00, 0.00000000e+00, 0.00000000e+00],\n",
       "       [2.07795808e-03, 0.00000000e+00, 0.00000000e+00],\n",
       "       [0.00000000e+00, 3.69273569e-03, 2.79793818e-03],\n",
       "       [3.01059991e-01, 1.67359784e-02, 9.43371281e-02],\n",
       "       [0.00000000e+00, 0.00000000e+00, 0.00000000e+00],\n",
       "       [2.79493805e-04, 0.00000000e+00, 0.00000000e+00],\n",
       "       [0.00000000e+00, 0.00000000e+00, 0.00000000e+00],\n",
       "       [1.38236769e-03, 0.00000000e+00, 0.00000000e+00],\n",
       "       [0.00000000e+00, 5.27685101e-04, 7.70353712e-04],\n",
       "       [8.67299561e-04, 8.26307805e-04, 9.25473345e-04],\n",
       "       [3.35467164e-04, 0.00000000e+00, 2.34133666e-04],\n",
       "       [0.00000000e+00, 0.00000000e+00, 0.00000000e+00],\n",
       "       [2.04698130e-01, 9.29566100e-02, 0.00000000e+00],\n",
       "       [0.00000000e+00, 0.00000000e+00, 0.00000000e+00],\n",
       "       [8.72735400e-03, 0.00000000e+00, 4.56717378e-03],\n",
       "       [0.00000000e+00, 0.00000000e+00, 0.00000000e+00],\n",
       "       [0.00000000e+00, 0.00000000e+00, 0.00000000e+00],\n",
       "       [0.00000000e+00, 0.00000000e+00, 0.00000000e+00],\n",
       "       [0.00000000e+00, 0.00000000e+00, 0.00000000e+00],\n",
       "       [1.14362082e-03, 0.00000000e+00, 2.47120624e-03],\n",
       "       [1.67757086e-03, 1.08875195e-02, 0.00000000e+00],\n",
       "       [0.00000000e+00, 0.00000000e+00, 0.00000000e+00],\n",
       "       [0.00000000e+00, 0.00000000e+00, 0.00000000e+00],\n",
       "       [2.68704928e-02, 7.79294455e-03, 1.05416318e-02],\n",
       "       [0.00000000e+00, 2.23001209e-03, 2.03287750e-02],\n",
       "       [0.00000000e+00, 0.00000000e+00, 0.00000000e+00],\n",
       "       [0.00000000e+00, 0.00000000e+00, 0.00000000e+00],\n",
       "       [1.93489462e-01, 1.18622281e-01, 1.83249965e-01],\n",
       "       [1.75569445e-01, 3.33873928e-02, 2.08086222e-02],\n",
       "       [0.00000000e+00, 0.00000000e+00, 0.00000000e+00],\n",
       "       [8.43048841e-02, 1.31408777e-03, 0.00000000e+00],\n",
       "       [1.34390995e-01, 2.04321425e-02, 1.15164435e-02],\n",
       "       [0.00000000e+00, 0.00000000e+00, 7.73218786e-03],\n",
       "       [0.00000000e+00, 0.00000000e+00, 0.00000000e+00],\n",
       "       [1.37234211e-03, 0.00000000e+00, 2.87669915e-04],\n",
       "       [2.78607994e-01, 1.73857689e-01, 2.37202242e-01],\n",
       "       [1.23174330e-02, 2.00484470e-02, 0.00000000e+00],\n",
       "       [6.96692050e-01, 2.27706060e-01, 0.00000000e+00],\n",
       "       [1.06348418e-01, 1.24292159e-02, 1.01105191e-01],\n",
       "       [0.00000000e+00, 8.13188322e-04, 2.70545916e-05],\n",
       "       [0.00000000e+00, 0.00000000e+00, 0.00000000e+00],\n",
       "       [0.00000000e+00, 0.00000000e+00, 0.00000000e+00],\n",
       "       [1.17276714e-03, 5.33209532e-04, 1.88605627e-04],\n",
       "       [0.00000000e+00, 0.00000000e+00, 1.34662781e-02],\n",
       "       [1.23042110e-02, 3.43445619e-03, 0.00000000e+00],\n",
       "       [7.46521982e-04, 0.00000000e+00, 0.00000000e+00],\n",
       "       [2.06619821e-04, 0.00000000e+00, 0.00000000e+00],\n",
       "       [0.00000000e+00, 0.00000000e+00, 0.00000000e+00],\n",
       "       [0.00000000e+00, 4.32507048e-04, 3.44009930e-03],\n",
       "       [1.12308317e-03, 3.24875495e-04, 1.52052555e-03],\n",
       "       [0.00000000e+00, 0.00000000e+00, 0.00000000e+00],\n",
       "       [1.67797750e-03, 0.00000000e+00, 0.00000000e+00],\n",
       "       [0.00000000e+00, 0.00000000e+00, 0.00000000e+00],\n",
       "       [0.00000000e+00, 0.00000000e+00, 0.00000000e+00],\n",
       "       [3.30627859e-02, 1.88498050e-02, 1.04095777e-02],\n",
       "       [0.00000000e+00, 0.00000000e+00, 0.00000000e+00],\n",
       "       [6.79101155e-04, 0.00000000e+00, 0.00000000e+00],\n",
       "       [2.22429875e-02, 1.36052491e-02, 3.35543603e-02],\n",
       "       [0.00000000e+00, 0.00000000e+00, 0.00000000e+00],\n",
       "       [1.60036609e-02, 0.00000000e+00, 2.58176588e-03],\n",
       "       [0.00000000e+00, 0.00000000e+00, 0.00000000e+00],\n",
       "       [7.68502417e-04, 8.11108621e-05, 0.00000000e+00],\n",
       "       [1.69643390e-04, 0.00000000e+00, 1.99432881e-03],\n",
       "       [0.00000000e+00, 8.13188322e-04, 2.70545916e-05],\n",
       "       [4.06715214e-01, 4.62971851e-02, 1.39670804e-01],\n",
       "       [0.00000000e+00, 0.00000000e+00, 0.00000000e+00],\n",
       "       [7.50427309e-04, 0.00000000e+00, 6.01607826e-05],\n",
       "       [4.25954461e-02, 1.58994533e-02, 1.86261028e-01],\n",
       "       [0.00000000e+00, 0.00000000e+00, 0.00000000e+00],\n",
       "       [0.00000000e+00, 0.00000000e+00, 0.00000000e+00],\n",
       "       [5.42008840e-02, 2.72866134e-02, 1.43210618e-02],\n",
       "       [0.00000000e+00, 0.00000000e+00, 0.00000000e+00],\n",
       "       [0.00000000e+00, 0.00000000e+00, 0.00000000e+00],\n",
       "       [0.00000000e+00, 0.00000000e+00, 0.00000000e+00],\n",
       "       [0.00000000e+00, 0.00000000e+00, 0.00000000e+00],\n",
       "       [3.63579452e-01, 1.57944232e-01, 0.00000000e+00],\n",
       "       [1.42097715e-02, 7.35791400e-04, 0.00000000e+00],\n",
       "       [0.00000000e+00, 0.00000000e+00, 1.68876001e-03],\n",
       "       [1.23596247e-02, 2.03029066e-03, 0.00000000e+00],\n",
       "       [0.00000000e+00, 1.45998492e-03, 5.35697956e-03],\n",
       "       [5.86637557e-02, 2.26713642e-02, 0.00000000e+00],\n",
       "       [2.58804560e+00, 9.76156235e-01, 0.00000000e+00],\n",
       "       [1.18723302e-03, 8.73355311e-04, 2.71666003e-03],\n",
       "       [1.38827097e-02, 6.28177589e-03, 0.00000000e+00],\n",
       "       [0.00000000e+00, 0.00000000e+00, 2.35550338e-03],\n",
       "       [5.35778003e-04, 0.00000000e+00, 5.81363449e-04],\n",
       "       [3.90079498e-01, 1.15012631e-01, 3.71220678e-01],\n",
       "       [2.62696599e-03, 1.65207940e-03, 1.06119830e-02],\n",
       "       [1.65376253e-03, 0.00000000e+00, 0.00000000e+00],\n",
       "       [4.71203180e-04, 1.84460714e-05, 0.00000000e+00],\n",
       "       [2.03406336e-04, 0.00000000e+00, 0.00000000e+00],\n",
       "       [5.45565679e-04, 1.13118289e-03, 2.81831529e-03],\n",
       "       [0.00000000e+00, 0.00000000e+00, 0.00000000e+00],\n",
       "       [0.00000000e+00, 0.00000000e+00, 0.00000000e+00],\n",
       "       [2.34305728e-02, 5.07170986e-03, 0.00000000e+00],\n",
       "       [6.78887591e-02, 4.22401866e-03, 2.41202656e-02],\n",
       "       [7.06165956e-05, 0.00000000e+00, 1.68980740e-04],\n",
       "       [0.00000000e+00, 0.00000000e+00, 1.52826170e-03],\n",
       "       [1.71505773e-04, 2.53751583e-04, 0.00000000e+00],\n",
       "       [3.36164504e-01, 5.24511039e-02, 4.64198977e-01],\n",
       "       [0.00000000e+00, 0.00000000e+00, 3.53325508e-03],\n",
       "       [7.34358269e-04, 0.00000000e+00, 0.00000000e+00],\n",
       "       [0.00000000e+00, 0.00000000e+00, 0.00000000e+00],\n",
       "       [1.85994824e-04, 7.53833738e-04, 2.87005299e-04],\n",
       "       [0.00000000e+00, 0.00000000e+00, 0.00000000e+00],\n",
       "       [0.00000000e+00, 0.00000000e+00, 0.00000000e+00],\n",
       "       [1.59603264e-02, 0.00000000e+00, 1.93185022e-03]], dtype=float32)"
      ]
     },
     "execution_count": 531,
     "metadata": {},
     "output_type": "execute_result"
    }
   ],
   "source": [
    "W[np.isin(adata_sc_filtered.var_names, adata_sp_filtered.var_names)]"
   ]
  },
  {
   "cell_type": "markdown",
   "metadata": {},
   "source": [
    "**Taken from the sklearn NMF class description:**\n",
    "\n",
    "Non-Negative Matrix Factorization (NMF).\n",
    "\n",
    "Find two non-negative matrices, i.e. matrices with all non-negative elements, (W, H)\n",
    "whose product approximates the non-negative matrix X. This factorization can be used\n",
    "for example for dimensionality reduction, source separation or topic extraction.\n",
    "\n",
    "The objective function is:\n",
    "$$\n",
    "L(W, H) = \\frac{1}{2} \\| X - WH \\|_{\\text{loss}}^2\n",
    "+ \\alpha_W \\cdot l1\\_ratio \\cdot n_{\\text{features}} \\cdot \\|\\text{vec}(W)\\|_1\n",
    "+ \\alpha_H \\cdot l1\\_ratio \\cdot n_{\\text{samples}} \\cdot \\|\\text{vec}(H)\\|_1\n",
    "+ \\frac{1}{2} \\alpha_W \\cdot (1 - l1\\_ratio) \\cdot n_{\\text{features}} \\cdot \\|W\\|_{Fro}^2\n",
    "+ \\frac{1}{2} \\alpha_H \\cdot (1 - l1\\_ratio) \\cdot n_{\\text{samples}} \\cdot \\|H\\|_{Fro}^2\n",
    "$$\n",
    "\n",
    "where $||A||_{Fro}^2 = \\sum_{i,j} A_{ij}^2$ (Frobenius norm) and\n",
    "$||vec(A)||_1 = \\sum_{i,j} abs(A_{ij})$ (Elementwise L1 norm).\n",
    "\n",
    "The generic norm $\\| X - WH \\|_{\\text{loss}}$ may represent\n",
    "the Frobenius norm or another supported beta-divergence loss.\n",
    "The choice between options is controlled by the `beta_loss` parameter.\n",
    "\n",
    "The regularization terms are scaled by `n_features` for `W` and by `n_samples` for\n",
    "`H` to keep their impact balanced with respect to one another and to the data fit\n",
    "term as independent as possible of the size `n_samples` of the training set.\n",
    "\n",
    "The objective function is minimized with an alternating minimization of W\n",
    "and H.\n",
    "\n",
    "Note that the transformed data is named W and the components matrix is named H. In\n",
    "the NMF literature, the naming convention is usually the opposite since the data\n",
    "matrix X is transposed.\n"
   ]
  },
  {
   "cell_type": "code",
   "execution_count": 532,
   "metadata": {},
   "outputs": [],
   "source": [
    "def validate_data(\n",
    "    _estimator,\n",
    "    /,\n",
    "    X=\"no_validation\",\n",
    "    y=\"no_validation\",\n",
    "    reset=True,\n",
    "    validate_separately=False,\n",
    "    skip_check_array=False,\n",
    "    **check_params,\n",
    "):\n",
    "    \"\"\"Validate input data and set or check feature names and counts of the input.\n",
    "\n",
    "    This helper function should be used in an estimator that requires input\n",
    "    validation. This mutates the estimator and sets the `n_features_in_` and\n",
    "    `feature_names_in_` attributes if `reset=True`.\n",
    "\n",
    "    .. versionadded:: 1.6\n",
    "\n",
    "    Parameters\n",
    "    ----------\n",
    "    _estimator : estimator instance\n",
    "        The estimator to validate the input for.\n",
    "\n",
    "    X : {array-like, sparse matrix, dataframe} of shape \\\n",
    "            (n_samples, n_features), default='no validation'\n",
    "        The input samples.\n",
    "        If `'no_validation'`, no validation is performed on `X`. This is\n",
    "        useful for meta-estimator which can delegate input validation to\n",
    "        their underlying estimator(s). In that case `y` must be passed and\n",
    "        the only accepted `check_params` are `multi_output` and\n",
    "        `y_numeric`.\n",
    "\n",
    "    y : array-like of shape (n_samples,), default='no_validation'\n",
    "        The targets.\n",
    "\n",
    "        - If `None`, :func:`~sklearn.utils.check_array` is called on `X`. If\n",
    "          the estimator's `requires_y` tag is True, then an error will be raised.\n",
    "        - If `'no_validation'`, :func:`~sklearn.utils.check_array` is called\n",
    "          on `X` and the estimator's `requires_y` tag is ignored. This is a default\n",
    "          placeholder and is never meant to be explicitly set. In that case `X` must be\n",
    "          passed.\n",
    "        - Otherwise, only `y` with `_check_y` or both `X` and `y` are checked with\n",
    "          either :func:`~sklearn.utils.check_array` or\n",
    "          :func:`~sklearn.utils.check_X_y` depending on `validate_separately`.\n",
    "\n",
    "    reset : bool, default=True\n",
    "        Whether to reset the `n_features_in_` attribute.\n",
    "        If False, the input will be checked for consistency with data\n",
    "        provided when reset was last True.\n",
    "\n",
    "        .. note::\n",
    "\n",
    "           It is recommended to call `reset=True` in `fit` and in the first\n",
    "           call to `partial_fit`. All other methods that validate `X`\n",
    "           should set `reset=False`.\n",
    "\n",
    "    validate_separately : False or tuple of dicts, default=False\n",
    "        Only used if `y` is not `None`.\n",
    "        If `False`, call :func:`~sklearn.utils.check_X_y`. Else, it must be a tuple of\n",
    "        kwargs to be used for calling :func:`~sklearn.utils.check_array` on `X` and `y`\n",
    "        respectively.\n",
    "\n",
    "        `estimator=self` is automatically added to these dicts to generate\n",
    "        more informative error message in case of invalid input data.\n",
    "\n",
    "    skip_check_array : bool, default=False\n",
    "        If `True`, `X` and `y` are unchanged and only `feature_names_in_` and\n",
    "        `n_features_in_` are checked. Otherwise, :func:`~sklearn.utils.check_array`\n",
    "        is called on `X` and `y`.\n",
    "\n",
    "    **check_params : kwargs\n",
    "        Parameters passed to :func:`~sklearn.utils.check_array` or\n",
    "        :func:`~sklearn.utils.check_X_y`. Ignored if validate_separately\n",
    "        is not False.\n",
    "\n",
    "        `estimator=self` is automatically added to these params to generate\n",
    "        more informative error message in case of invalid input data.\n",
    "\n",
    "    Returns\n",
    "    -------\n",
    "    out : {ndarray, sparse matrix} or tuple of these\n",
    "        The validated input. A tuple is returned if both `X` and `y` are\n",
    "        validated.\n",
    "    \"\"\"\n",
    "    _check_feature_names(_estimator, X, reset=reset)\n",
    "    tags = get_tags(_estimator)\n",
    "    if y is None and tags.target_tags.required:\n",
    "        raise ValueError(\n",
    "            f\"This {_estimator.__class__.__name__} estimator \"\n",
    "            \"requires y to be passed, but the target y is None.\"\n",
    "        )\n",
    "\n",
    "    no_val_X = isinstance(X, str) and X == \"no_validation\"\n",
    "    no_val_y = y is None or isinstance(y, str) and y == \"no_validation\"\n",
    "\n",
    "    if no_val_X and no_val_y:\n",
    "        raise ValueError(\"Validation should be done on X, y or both.\")\n",
    "\n",
    "    default_check_params = {\"estimator\": _estimator}\n",
    "    check_params = {**default_check_params, **check_params}\n",
    "\n",
    "    if skip_check_array:\n",
    "        if not no_val_X and no_val_y:\n",
    "            out = X\n",
    "        elif no_val_X and not no_val_y:\n",
    "            out = y\n",
    "        else:\n",
    "            out = X, y\n",
    "    elif not no_val_X and no_val_y:\n",
    "        out = check_array(X, input_name=\"X\", **check_params)\n",
    "    elif no_val_X and not no_val_y:\n",
    "        out = _check_y(y, **check_params)\n",
    "    else:\n",
    "        if validate_separately:\n",
    "            # We need this because some estimators validate X and y\n",
    "            # separately, and in general, separately calling check_array()\n",
    "            # on X and y isn't equivalent to just calling check_X_y()\n",
    "            # :(\n",
    "            check_X_params, check_y_params = validate_separately\n",
    "            if \"estimator\" not in check_X_params:\n",
    "                check_X_params = {**default_check_params, **check_X_params}\n",
    "            X = check_array(X, input_name=\"X\", **check_X_params)\n",
    "            if \"estimator\" not in check_y_params:\n",
    "                check_y_params = {**default_check_params, **check_y_params}\n",
    "            y = check_array(y, input_name=\"y\", **check_y_params)\n",
    "        else:\n",
    "            X, y = check_X_y(X, y, **check_params)\n",
    "        out = X, y\n",
    "\n",
    "    if not no_val_X and check_params.get(\"ensure_2d\", True):\n",
    "        _check_n_features(_estimator, X, reset=reset)\n",
    "\n",
    "    return out\n",
    "\n",
    "def _fit_transform(self, X, y=None, W=None, H=None, update_H=True):\n",
    "    \"\"\"Learn a NMF model for the data X and returns the transformed data.\n",
    "\n",
    "    Parameters\n",
    "    ----------\n",
    "    X : {array-like, sparse matrix} of shape (n_samples, n_features)\n",
    "        Data matrix to be decomposed\n",
    "\n",
    "    y : Ignored\n",
    "\n",
    "    W : array-like of shape (n_samples, n_components), default=None\n",
    "        If `init='custom'`, it is used as initial guess for the solution.\n",
    "        If `update_H=False`, it is initialised as an array of zeros, unless\n",
    "        `solver='mu'`, then it is filled with values calculated by\n",
    "        `np.sqrt(X.mean() / self._n_components)`.\n",
    "        If `None`, uses the initialisation method specified in `init`.\n",
    "\n",
    "    H : array-like of shape (n_components, n_features), default=None\n",
    "        If `init='custom'`, it is used as initial guess for the solution.\n",
    "        If `update_H=False`, it is used as a constant, to solve for W only.\n",
    "        If `None`, uses the initialisation method specified in `init`.\n",
    "\n",
    "    update_H : bool, default=True\n",
    "        If True, both W and H will be estimated from initial guesses,\n",
    "        this corresponds to a call to the 'fit_transform' method.\n",
    "        If False, only W will be estimated, this corresponds to a call\n",
    "        to the 'transform' method.\n",
    "\n",
    "    Returns\n",
    "    -------\n",
    "    W : ndarray of shape (n_samples, n_components)\n",
    "        Transformed data.\n",
    "\n",
    "    H : ndarray of shape (n_components, n_features)\n",
    "        Factorization matrix, sometimes called 'dictionary'.\n",
    "\n",
    "    n_iter_ : int\n",
    "        Actual number of iterations.\n",
    "    \"\"\"\n",
    "    # check parameters\n",
    "    self._check_params(X)\n",
    "\n",
    "    if X.min() == 0 and self._beta_loss <= 0:\n",
    "        raise ValueError(\n",
    "            \"When beta_loss <= 0 and X contains zeros, \"\n",
    "            \"the solver may diverge. Please add small values \"\n",
    "            \"to X, or use a positive beta_loss.\"\n",
    "        )\n",
    "\n",
    "    # initialize or check W and H\n",
    "    W, H = self._check_w_h(X, W, H, update_H)\n",
    "\n",
    "    # scale the regularization terms\n",
    "    l1_reg_W, l1_reg_H, l2_reg_W, l2_reg_H = self._compute_regularization(X)\n",
    "\n",
    "    if self.solver == \"cd\":\n",
    "        W, H, n_iter = _fit_coordinate_descent(\n",
    "            X,\n",
    "            W,\n",
    "            H,\n",
    "            self.tol,\n",
    "            self.max_iter,\n",
    "            l1_reg_W,\n",
    "            l1_reg_H,\n",
    "            l2_reg_W,\n",
    "            l2_reg_H,\n",
    "            update_H=update_H,\n",
    "            verbose=self.verbose,\n",
    "            shuffle=self.shuffle,\n",
    "            random_state=self.random_state,\n",
    "        )\n",
    "    elif self.solver == \"mu\":\n",
    "        W, H, n_iter, *_ = _fit_multiplicative_update(\n",
    "            X,\n",
    "            W,\n",
    "            H,\n",
    "            self._beta_loss,\n",
    "            self.max_iter,\n",
    "            self.tol,\n",
    "            l1_reg_W,\n",
    "            l1_reg_H,\n",
    "            l2_reg_W,\n",
    "            l2_reg_H,\n",
    "            update_H,\n",
    "            self.verbose,\n",
    "        )\n",
    "    else:\n",
    "        raise ValueError(\"Invalid solver parameter '%s'.\" % self.solver)\n",
    "\n",
    "    if n_iter == self.max_iter and self.tol > 0:\n",
    "        warnings.warn(\n",
    "            \"Maximum number of iterations %d reached. Increase \"\n",
    "            \"it to improve convergence.\" % self.max_iter,\n",
    "            ConvergenceWarning,\n",
    "        )\n",
    "\n",
    "    return W, H, n_iter\n",
    "\n",
    "def fit_transform(self, X, y=None, W=None, H=None):\n",
    "    \"\"\"Learn a NMF model for the data X and returns the transformed data.\n",
    "\n",
    "    This is more efficient than calling fit followed by transform.\n",
    "\n",
    "    Parameters\n",
    "    ----------\n",
    "    X : {array-like, sparse matrix} of shape (n_samples, n_features)\n",
    "        Training vector, where `n_samples` is the number of samples\n",
    "        and `n_features` is the number of features.\n",
    "\n",
    "    y : Ignored\n",
    "        Not used, present for API consistency by convention.\n",
    "\n",
    "    W : array-like of shape (n_samples, n_components), default=None\n",
    "        If `init='custom'`, it is used as initial guess for the solution.\n",
    "        If `None`, uses the initialisation method specified in `init`.\n",
    "\n",
    "    H : array-like of shape (n_components, n_features), default=None\n",
    "        If `init='custom'`, it is used as initial guess for the solution.\n",
    "        If `None`, uses the initialisation method specified in `init`.\n",
    "\n",
    "    Returns\n",
    "    -------\n",
    "    W : ndarray of shape (n_samples, n_components)\n",
    "        Transformed data.\n",
    "    \"\"\"\n",
    "    X = validate_data(\n",
    "        self, X, accept_sparse=(\"csr\", \"csc\"), dtype=[np.float64, np.float32]\n",
    "    )\n",
    "\n",
    "    with config_context(assume_finite=True):\n",
    "        W, H, n_iter = self._fit_transform(X, W=W, H=H)\n",
    "\n",
    "    self.reconstruction_err_ = _beta_divergence(\n",
    "        X, W, H, self._beta_loss, square_root=True\n",
    "    )\n",
    "\n",
    "    self.n_components_ = H.shape[0]\n",
    "    self.components_ = H\n",
    "    self.n_iter_ = n_iter\n",
    "\n",
    "    return W"
   ]
  },
  {
   "cell_type": "code",
   "execution_count": 533,
   "metadata": {},
   "outputs": [],
   "source": [
    "from sklearn.decomposition._cdnmf_fast import _update_cdnmf_fast\n",
    "from sklearn.utils.extmath import safe_sparse_dot\n",
    "from sklearn.utils import check_array, check_random_state\n",
    "\n",
    "\n",
    "def _update_coordinate_descent(X, W, Ht, l1_reg, l2_reg, shuffle, random_state):\n",
    "    \"\"\"Helper function for _fit_coordinate_descent.\n",
    "\n",
    "    Update W to minimize the objective function, iterating once over all\n",
    "    coordinates. By symmetry, to update H, one can call\n",
    "    _update_coordinate_descent(X.T, Ht, W, ...).\n",
    "\n",
    "    \"\"\"\n",
    "    n_components = Ht.shape[1]\n",
    "\n",
    "    HHt = np.dot(Ht.T, Ht)\n",
    "    XHt = safe_sparse_dot(X, Ht)\n",
    "\n",
    "    # L2 regularization corresponds to increase of the diagonal of HHt\n",
    "    if l2_reg != 0.0:\n",
    "        # adds l2_reg only on the diagonal\n",
    "        HHt.flat[:: n_components + 1] += l2_reg\n",
    "    # L1 regularization corresponds to decrease of each element of XHt\n",
    "    if l1_reg != 0.0:\n",
    "        XHt -= l1_reg\n",
    "\n",
    "    if shuffle:\n",
    "        permutation = random_state.permutation(n_components)\n",
    "    else:\n",
    "        permutation = np.arange(n_components)\n",
    "    # The following seems to be required on 64-bit Windows w/ Python 3.5.\n",
    "    permutation = np.asarray(permutation, dtype=np.intp)\n",
    "    return _update_cdnmf_fast(W, HHt, XHt, permutation)\n",
    "\n",
    "def _fit_coordinate_descent(\n",
    "    X,\n",
    "    W,\n",
    "    H,\n",
    "    tol=1e-4,\n",
    "    max_iter=200,\n",
    "    l1_reg_W=0,\n",
    "    l1_reg_H=0,\n",
    "    l2_reg_W=0,\n",
    "    l2_reg_H=0,\n",
    "    update_H=True,\n",
    "    verbose=0,\n",
    "    shuffle=False,\n",
    "    random_state=None,\n",
    "):\n",
    "    \"\"\"Compute Non-negative Matrix Factorization (NMF) with Coordinate Descent\n",
    "\n",
    "    The objective function is minimized with an alternating minimization of W\n",
    "    and H. Each minimization is done with a cyclic (up to a permutation of the\n",
    "    features) Coordinate Descent.\n",
    "\n",
    "    Parameters\n",
    "    ----------\n",
    "    X : array-like of shape (n_samples, n_features)\n",
    "        Constant matrix.\n",
    "\n",
    "    W : array-like of shape (n_samples, n_components)\n",
    "        Initial guess for the solution.\n",
    "\n",
    "    H : array-like of shape (n_components, n_features)\n",
    "        Initial guess for the solution.\n",
    "\n",
    "    tol : float, default=1e-4\n",
    "        Tolerance of the stopping condition.\n",
    "\n",
    "    max_iter : int, default=200\n",
    "        Maximum number of iterations before timing out.\n",
    "\n",
    "    l1_reg_W : float, default=0.\n",
    "        L1 regularization parameter for W.\n",
    "\n",
    "    l1_reg_H : float, default=0.\n",
    "        L1 regularization parameter for H.\n",
    "\n",
    "    l2_reg_W : float, default=0.\n",
    "        L2 regularization parameter for W.\n",
    "\n",
    "    l2_reg_H : float, default=0.\n",
    "        L2 regularization parameter for H.\n",
    "\n",
    "    update_H : bool, default=True\n",
    "        Set to True, both W and H will be estimated from initial guesses.\n",
    "        Set to False, only W will be estimated.\n",
    "\n",
    "    verbose : int, default=0\n",
    "        The verbosity level.\n",
    "\n",
    "    shuffle : bool, default=False\n",
    "        If true, randomize the order of coordinates in the CD solver.\n",
    "\n",
    "    random_state : int, RandomState instance or None, default=None\n",
    "        Used to randomize the coordinates in the CD solver, when\n",
    "        ``shuffle`` is set to ``True``. Pass an int for reproducible\n",
    "        results across multiple function calls.\n",
    "        See :term:`Glossary <random_state>`.\n",
    "\n",
    "    Returns\n",
    "    -------\n",
    "    W : ndarray of shape (n_samples, n_components)\n",
    "        Solution to the non-negative least squares problem.\n",
    "\n",
    "    H : ndarray of shape (n_components, n_features)\n",
    "        Solution to the non-negative least squares problem.\n",
    "\n",
    "    n_iter : int\n",
    "        The number of iterations done by the algorithm.\n",
    "\n",
    "    References\n",
    "    ----------\n",
    "    .. [1] :doi:`\"Fast local algorithms for large scale nonnegative matrix and tensor\n",
    "       factorizations\" <10.1587/transfun.E92.A.708>`\n",
    "       Cichocki, Andrzej, and P. H. A. N. Anh-Huy. IEICE transactions on fundamentals\n",
    "       of electronics, communications and computer sciences 92.3: 708-721, 2009.\n",
    "    \"\"\"\n",
    "    # so W and Ht are both in C order in memory\n",
    "    Ht = check_array(H.T, order=\"C\")\n",
    "    X = check_array(X, accept_sparse=\"csr\")\n",
    "\n",
    "    rng = check_random_state(random_state)\n",
    "\n",
    "    for n_iter in range(1, max_iter + 1):\n",
    "        violation = 0.0\n",
    "\n",
    "        # Update W\n",
    "        violation += _update_coordinate_descent(\n",
    "            X, W, Ht, l1_reg_W, l2_reg_W, shuffle, rng\n",
    "        )\n",
    "        # Update H\n",
    "        if update_H:\n",
    "            violation += _update_coordinate_descent(\n",
    "                X.T, Ht, W, l1_reg_H, l2_reg_H, shuffle, rng\n",
    "            )\n",
    "\n",
    "        if n_iter == 1:\n",
    "            violation_init = violation\n",
    "\n",
    "        if violation_init == 0:\n",
    "            break\n",
    "\n",
    "        if verbose:\n",
    "            print(\"violation:\", violation / violation_init)\n",
    "\n",
    "        if violation / violation_init <= tol:\n",
    "            if verbose:\n",
    "                print(\"Converged at iteration\", n_iter + 1)\n",
    "            break\n",
    "\n",
    "    return W, Ht.T, n_iter"
   ]
  },
  {
   "cell_type": "code",
   "execution_count": 611,
   "metadata": {},
   "outputs": [],
   "source": [
    "from sklearn.decomposition._nmf import _check_init, _initialize_nmf, _beta_divergence\n",
    "from sklearn.exceptions import ConvergenceWarning\n",
    "from sklearn._config import config_context\n",
    "from sklearn.utils.validation import validate_data\n",
    "\n",
    "def _fit_coordinate_descent_adapted(\n",
    "    X,\n",
    "    W,\n",
    "    H,\n",
    "    tol=1e-4,\n",
    "    max_iter=200,\n",
    "    l1_reg_W=0,\n",
    "    l1_reg_H=0,\n",
    "    l2_reg_W=0,\n",
    "    l2_reg_H=0,\n",
    "    update_H = True,\n",
    "):\n",
    "    \"\"\"Compute Non-negative Matrix Factorization (NMF) with Coordinate Descent\n",
    "\n",
    "    The objective function is minimized with an alternating minimization of W\n",
    "    and H. Each minimization is done with a cyclic (up to a permutation of the\n",
    "    features) Coordinate Descent.\n",
    "\n",
    "    Parameters\n",
    "    ----------\n",
    "    X : array-like of shape (n_samples, n_features)\n",
    "        Constant matrix.\n",
    "\n",
    "    W : array-like of shape (n_samples, n_components)\n",
    "        Initial guess for the solution.\n",
    "\n",
    "    H : array-like of shape (n_components, n_features)\n",
    "        Initial guess for the solution.\n",
    "\n",
    "    tol : float, default=1e-4\n",
    "        Tolerance of the stopping condition.\n",
    "\n",
    "    max_iter : int, default=200\n",
    "        Maximum number of iterations before timing out.\n",
    "\n",
    "    l1_reg_W : float, default=0.\n",
    "        L1 regularization parameter for W.\n",
    "\n",
    "    l1_reg_H : float, default=0.\n",
    "        L1 regularization parameter for H.\n",
    "\n",
    "    l2_reg_W : float, default=0.\n",
    "        L2 regularization parameter for W.\n",
    "\n",
    "    l2_reg_H : float, default=0.\n",
    "        L2 regularization parameter for H.\n",
    "\n",
    "    Returns\n",
    "    -------\n",
    "    W : ndarray of shape (n_samples, n_components)\n",
    "        Solution to the non-negative least squares problem.\n",
    "\n",
    "    H : ndarray of shape (n_components, n_features)\n",
    "        Solution to the non-negative least squares problem.\n",
    "\n",
    "    n_iter : int\n",
    "        The number of iterations done by the algorithm.\n",
    "\n",
    "    References\n",
    "    ----------\n",
    "    .. [1] :doi:`\"Fast local algorithms for large scale nonnegative matrix and tensor\n",
    "       factorizations\" <10.1587/transfun.E92.A.708>`\n",
    "       Cichocki, Andrzej, and P. H. A. N. Anh-Huy. IEICE transactions on fundamentals\n",
    "       of electronics, communications and computer sciences 92.3: 708-721, 2009.\n",
    "    \"\"\"\n",
    "    # so W and Ht are both in C order in memory\n",
    "    Ht = check_array(H.T, order=\"C\")\n",
    "    X = check_array(X, accept_sparse=\"csr\")\n",
    "\n",
    "    _update_coordinate_descent = lambda X, W, Ht, l1_reg, l2_reg: _update_cdnmf_fast(\n",
    "        W,\n",
    "        np.dot(Ht.T, Ht) + (np.eye(Ht.shape[1], dtype=X.dtype) * (l2_reg)), \n",
    "        safe_sparse_dot(X, Ht) - l1_reg,\n",
    "        np.arange(Ht.shape[1])\n",
    "    )\n",
    "\n",
    "    for n_iter in range(1, max_iter + 1):\n",
    "        violation = 0.0\n",
    "        # Update W\n",
    "        violation += _update_coordinate_descent(X, W, Ht, l1_reg_W, l2_reg_W)\n",
    "        # Update H\n",
    "        if update_H:\n",
    "            violation += _update_coordinate_descent(X.T, Ht, W, l1_reg_H, l2_reg_H)\n",
    "\n",
    "        if n_iter == 1:\n",
    "            violation_init = violation\n",
    "        if violation_init == 0:\n",
    "            break\n",
    "        if violation / violation_init <= tol:\n",
    "            break\n",
    "    return W, Ht.T, n_iter\n",
    "\n",
    "\n",
    "def _check_w_h(X, n_components, W, H, init=None, update_H=True):\n",
    "    \"\"\"Check W and H, or initialize them.\"\"\"\n",
    "    n_samples, n_features = X.shape\n",
    "\n",
    "    if init == \"custom\" and update_H:\n",
    "        _check_init(H, (n_components, X.shape[0]), \"NMF (input H)\")\n",
    "        _check_init(W, (X.shape[1], n_components), \"NMF (input W)\")\n",
    "\n",
    "        if H.dtype != X.dtype or W.dtype != X.dtype:\n",
    "            raise TypeError(\n",
    "                \"H and W should have the same dtype as X. Got \"\n",
    "                \"H.dtype = {} and W.dtype = {}.\".format(H.dtype, W.dtype)\n",
    "            )\n",
    "\n",
    "    elif not update_H:\n",
    "        if W is not None:\n",
    "            warnings.warn(\n",
    "                \"When update_H=False, the provided initial W is not used.\",\n",
    "                RuntimeWarning,\n",
    "            )\n",
    "\n",
    "        _check_init(H, (n_components, X.shape[0]), \"NMF (input H)\")\n",
    "\n",
    "        if H.dtype != X.dtype:\n",
    "            raise TypeError(\n",
    "                \"H should have the same dtype as X. Got H.dtype = {}.\".format(\n",
    "                    H.dtype\n",
    "                )\n",
    "            )\n",
    "\n",
    "        W = np.zeros((X.shape[1], n_components), dtype=X.dtype)\n",
    "\n",
    "    else:\n",
    "        if W is not None or H is not None:\n",
    "            warnings.warn(\n",
    "                (\n",
    "                    \"When init!='custom', provided W or H are ignored. Set \"\n",
    "                    \" init='custom' to use them as initialization.\"\n",
    "                ),\n",
    "                RuntimeWarning,\n",
    "            )\n",
    "\n",
    "        W, H = _initialize_nmf(\n",
    "            X, n_components, init=init\n",
    "        )\n",
    "\n",
    "    return W, H\n",
    "\n",
    "def _fit_transform_adapted(X, n_components, y=None, W=None, H=None, update_H=True, alpha_W=0.0, alpha_H=0.0, l1_ratio=0.0, tol=1e-4, max_iter=200):\n",
    "        \"\"\"Learn a NMF model for the data X and returns the transformed data.\n",
    "\n",
    "        Parameters\n",
    "        ----------\n",
    "        X : {array-like, sparse matrix} of shape (n_samples, n_features)\n",
    "            Data matrix to be decomposed\n",
    "\n",
    "        y : Ignored\n",
    "\n",
    "        W : array-like of shape (n_samples, n_components), default=None\n",
    "            If `init='custom'`, it is used as initial guess for the solution.\n",
    "            If `update_H=False`, it is initialised as an array of zeros, unless\n",
    "            `solver='mu'`, then it is filled with values calculated by\n",
    "            `np.sqrt(X.mean() / self._n_components)`.\n",
    "            If `None`, uses the initialisation method specified in `init`.\n",
    "\n",
    "        H : array-like of shape (n_components, n_features), default=None\n",
    "            If `init='custom'`, it is used as initial guess for the solution.\n",
    "            If `update_H=False`, it is used as a constant, to solve for W only.\n",
    "            If `None`, uses the initialisation method specified in `init`.\n",
    "\n",
    "        update_H : bool, default=True\n",
    "            If True, both W and H will be estimated from initial guesses,\n",
    "            this corresponds to a call to the 'fit_transform' method.\n",
    "            If False, only W will be estimated, this corresponds to a call\n",
    "            to the 'transform' method.\n",
    "\n",
    "        Returns\n",
    "        -------\n",
    "        W : ndarray of shape (n_samples, n_components)\n",
    "            Transformed data.\n",
    "\n",
    "        H : ndarray of shape (n_components, n_features)\n",
    "            Factorization matrix, sometimes called 'dictionary'.\n",
    "\n",
    "        n_iter_ : int\n",
    "            Actual number of iterations.\n",
    "        \"\"\"\n",
    "        # check parameters\n",
    "        #self._check_params(X)\n",
    "\n",
    "        #if X.min() == 0 and self._beta_loss <= 0:\n",
    "        #    raise ValueError(\n",
    "        #        \"When beta_loss <= 0 and X contains zeros, \"\n",
    "        #        \"the solver may diverge. Please add small values \"\n",
    "        #        \"to X, or use a positive beta_loss.\"\n",
    "        #    )\n",
    "\n",
    "        # initialize or check W and H\n",
    "        W, H = _check_w_h(X=X, n_components=n_components, W=W, H=H, update_H=update_H)\n",
    "\n",
    "        W, H, n_iter = _fit_coordinate_descent_adapted(\n",
    "            X,\n",
    "            W,\n",
    "            H,\n",
    "            l1_reg_W=X.shape[0] * alpha_W * l1_ratio,\n",
    "            l1_reg_H=X.shape[1] * alpha_H * l1_ratio,\n",
    "            l2_reg_W=X.shape[0] * alpha_W * (1.0 - l1_ratio),\n",
    "            l2_reg_H=X.shape[1] * alpha_H * (1.0 - l1_ratio),\n",
    "            \n",
    "        )\n",
    "        if n_iter == max_iter and tol > 0:\n",
    "            warnings.warn(\n",
    "                \"Maximum number of iterations %d reached. Increase \"\n",
    "                \"it to improve convergence.\" % max_iter,\n",
    "                ConvergenceWarning,\n",
    "            )\n",
    "\n",
    "        return W, H, n_iter\n",
    "\n",
    "def fit_transform_adapted(self, X, y=None, W=None, H=None):\n",
    "    \"\"\"Learn a NMF model for the data X and returns the transformed data.\n",
    "\n",
    "    This is more efficient than calling fit followed by transform.\n",
    "\n",
    "    Parameters\n",
    "    ----------\n",
    "    X : {array-like, sparse matrix} of shape (n_samples, n_features)\n",
    "        Data matrix to be decomposed.\n",
    "\n",
    "    y : Ignored\n",
    "        Not used, present here for API consistency by convention.\n",
    "\n",
    "    W : array-like of shape (n_samples, n_components), default=None\n",
    "        If `init='custom'`, it is used as initial guess for the solution.\n",
    "        If `None`, uses the initialisation method specified in `init`.\n",
    "\n",
    "    H : array-like of shape (n_components, n_features), default=None\n",
    "        If `init='custom'`, it is used as initial guess for the solution.\n",
    "        If `None`, uses the initialisation method specified in `init`.\n",
    "\n",
    "    Returns\n",
    "    -------\n",
    "    W : ndarray of shape (n_samples, n_components)\n",
    "        Transformed data.\n",
    "    \"\"\"\n",
    "    X = validate_data(\n",
    "        self, X, accept_sparse=(\"csr\", \"csc\"), dtype=[np.float64, np.float32]\n",
    "    )\n",
    "\n",
    "    with config_context(assume_finite=True):\n",
    "        W, H, n_iter = self._fit_transform(X, W=W, H=H)\n",
    "\n",
    "    self.reconstruction_err_ = _beta_divergence(\n",
    "        X, W, H, self._beta_loss, square_root=True\n",
    "    )\n",
    "\n",
    "    self.n_components_ = H.shape[0]\n",
    "    self.components_ = H\n",
    "    self.n_iter_ = n_iter\n",
    "    self.n_steps_ = n_steps\n",
    "\n",
    "    return W"
   ]
  },
  {
   "cell_type": "code",
   "execution_count": 627,
   "metadata": {},
   "outputs": [
    {
     "name": "stderr",
     "output_type": "stream",
     "text": [
      "/var/folders/qm/v_v5_1r52bx792m7x2mh177c0000gn/T/ipykernel_34618/794263601.py:210: ConvergenceWarning: Maximum number of iterations 200 reached. Increase it to improve convergence.\n",
      "  warnings.warn(\n"
     ]
    }
   ],
   "source": [
    "X = adata_sc_filtered.X.toarray().copy().T\n",
    "with config_context(assume_finite=True):\n",
    "    W, H, n_iter = _fit_transform_adapted(X, n_components=3, W=None, H=None)\n",
    "\n",
    "reconstruction_err_ = _beta_divergence(X, W, H, \"frobenius\", square_root=True)"
   ]
  },
  {
   "cell_type": "code",
   "execution_count": 628,
   "metadata": {},
   "outputs": [
    {
     "data": {
      "text/plain": [
       "(array([[0.        , 0.        , 0.        ],\n",
       "        [0.        , 0.        , 0.        ],\n",
       "        [0.        , 0.        , 0.00167003],\n",
       "        ...,\n",
       "        [0.19643058, 0.10931563, 0.15880486],\n",
       "        [0.02652682, 0.01224245, 0.        ],\n",
       "        [0.00043111, 0.        , 0.        ]], dtype=float32),\n",
       " array([[21.261667  , 28.685764  , 16.048237  , ...,  0.12589557,\n",
       "          0.52733314,  0.        ],\n",
       "        [ 1.7029433 ,  0.        , 13.322961  , ...,  2.7921147 ,\n",
       "          1.4286717 ,  0.9339252 ],\n",
       "        [17.6709    , 10.896975  , 15.449171  , ...,  0.        ,\n",
       "          0.        ,  0.0805415 ]], dtype=float32))"
      ]
     },
     "execution_count": 628,
     "metadata": {},
     "output_type": "execute_result"
    }
   ],
   "source": [
    "W, H"
   ]
  },
  {
   "cell_type": "code",
   "execution_count": 630,
   "metadata": {},
   "outputs": [
    {
     "data": {
      "text/plain": [
       "(array([[0.        , 0.        , 0.        ],\n",
       "        [0.        , 0.        , 0.        ],\n",
       "        [0.        , 0.        , 0.00167004],\n",
       "        ...,\n",
       "        [0.19643056, 0.10931512, 0.15880479],\n",
       "        [0.02652677, 0.01224239, 0.        ],\n",
       "        [0.00043111, 0.        , 0.        ]], dtype=float32),\n",
       " array([[21.261713  , 28.685808  , 16.048265  , ...,  0.12589265,\n",
       "          0.5273322 ,  0.        ],\n",
       "        [ 1.7029498 ,  0.        , 13.32305   , ...,  2.792133  ,\n",
       "          1.428681  ,  0.93393147],\n",
       "        [17.670853  , 10.896946  , 15.449126  , ...,  0.        ,\n",
       "          0.        ,  0.08054069]], dtype=float32))"
      ]
     },
     "execution_count": 630,
     "metadata": {},
     "output_type": "execute_result"
    }
   ],
   "source": [
    "W, H"
   ]
  },
  {
   "cell_type": "code",
   "execution_count": 602,
   "metadata": {},
   "outputs": [
    {
     "name": "stderr",
     "output_type": "stream",
     "text": [
      "/var/folders/qm/v_v5_1r52bx792m7x2mh177c0000gn/T/ipykernel_34618/214351816.py:208: ConvergenceWarning: Maximum number of iterations 200 reached. Increase it to improve convergence.\n",
      "  warnings.warn(\n",
      "/var/folders/qm/v_v5_1r52bx792m7x2mh177c0000gn/T/ipykernel_34618/214351816.py:208: ConvergenceWarning: Maximum number of iterations 200 reached. Increase it to improve convergence.\n",
      "  warnings.warn(\n"
     ]
    },
    {
     "data": {
      "text/plain": [
       "[(array([[0.        , 0.        , 0.        ],\n",
       "         [0.        , 0.        , 0.        ],\n",
       "         [0.        , 0.        , 0.00167003],\n",
       "         ...,\n",
       "         [0.19643053, 0.10931594, 0.15880477],\n",
       "         [0.02652678, 0.01224257, 0.        ],\n",
       "         [0.00043111, 0.        , 0.        ]], dtype=float32),\n",
       "  array([[21.261686  , 28.685787  , 16.048216  , ...,  0.1258882 ,\n",
       "           0.52732944,  0.        ],\n",
       "         [ 1.7029173 ,  0.        , 13.322964  , ...,  2.7921197 ,\n",
       "           1.4286746 ,  0.9339265 ],\n",
       "         [17.670895  , 10.896966  , 15.449174  , ...,  0.        ,\n",
       "           0.        ,  0.08054032]], dtype=float32),\n",
       "  200),\n",
       " (array([[0.        , 0.        , 0.        ],\n",
       "         [0.        , 0.        , 0.        ],\n",
       "         [0.        , 0.        , 0.00167003],\n",
       "         ...,\n",
       "         [0.19643115, 0.10931528, 0.1588049 ],\n",
       "         [0.02652684, 0.0122425 , 0.        ],\n",
       "         [0.00043111, 0.        , 0.        ]], dtype=float32),\n",
       "  array([[21.261633  , 28.685694  , 16.048208  , ...,  0.12589127,\n",
       "           0.5273292 ,  0.        ],\n",
       "         [ 1.7029176 ,  0.        , 13.323009  , ...,  2.7921324 ,\n",
       "           1.4286813 ,  0.93393064],\n",
       "         [17.670885  , 10.896962  , 15.44916   , ...,  0.        ,\n",
       "           0.        ,  0.08054101]], dtype=float32),\n",
       "  200)]"
      ]
     },
     "execution_count": 602,
     "metadata": {},
     "output_type": "execute_result"
    }
   ],
   "source": [
    "[_fit_transform_adapted(X, n_components=3) for _ in range(2)]"
   ]
  },
  {
   "cell_type": "code",
   "execution_count": 585,
   "metadata": {},
   "outputs": [
    {
     "data": {
      "text/plain": [
       "[[array([[0., 0., 0., ..., 0., 0., 0.],\n",
       "         [0., 0., 0., ..., 0., 0., 0.],\n",
       "         [0., 0., 0., ..., 0., 0., 0.],\n",
       "         ...,\n",
       "         [2., 4., 4., ..., 0., 2., 2.],\n",
       "         [0., 0., 0., ..., 0., 0., 0.],\n",
       "         [0., 0., 0., ..., 0., 0., 0.]], dtype=float32),\n",
       "  array([[9.8857951e-01, 9.8857951e-01, 3.6710804e-05],\n",
       "         [9.8857951e-01, 9.8857951e-01, 9.8857951e-01],\n",
       "         [8.0575468e-04, 9.8857951e-01, 1.0782577e-03],\n",
       "         ...,\n",
       "         [2.7763841e-01, 9.8857951e-01, 9.8857951e-01],\n",
       "         [2.1468336e-02, 3.5585135e-03, 9.8857951e-01],\n",
       "         [3.0268269e-04, 9.8857951e-01, 9.8857951e-01]], dtype=float32),\n",
       "  array([[25.083084  ,  0.9885795 ,  5.303331  ],\n",
       "         [24.439966  ,  0.9885795 ,  0.9885795 ],\n",
       "         [25.938011  ,  2.1075618 ,  4.419909  ],\n",
       "         ...,\n",
       "         [ 1.2632922 ,  3.3489437 ,  0.9885795 ],\n",
       "         [ 0.91882634,  1.4685208 ,  0.9885795 ],\n",
       "         [ 0.48426846,  1.0938467 ,  0.9885795 ]], dtype=float32),\n",
       "  np.float32(0.0),\n",
       "  np.float32(0.0)]]"
      ]
     },
     "execution_count": 585,
     "metadata": {},
     "output_type": "execute_result"
    }
   ],
   "source": [
    "debug_list"
   ]
  },
  {
   "cell_type": "code",
   "execution_count": 581,
   "metadata": {},
   "outputs": [
    {
     "data": {
      "text/plain": [
       "[array([[0., 0., 0., ..., 0., 0., 0.],\n",
       "        [0., 0., 0., ..., 0., 0., 0.],\n",
       "        [0., 0., 0., ..., 0., 0., 0.],\n",
       "        ...,\n",
       "        [2., 4., 4., ..., 0., 2., 2.],\n",
       "        [0., 0., 0., ..., 0., 0., 0.],\n",
       "        [0., 0., 0., ..., 0., 0., 0.]], dtype=float32),\n",
       " array([[9.8857951e-01, 9.8857951e-01, 2.2940740e-05],\n",
       "        [9.8857951e-01, 9.8857951e-01, 9.8857951e-01],\n",
       "        [8.0575305e-04, 9.8857951e-01, 1.0779443e-03],\n",
       "        ...,\n",
       "        [2.7763829e-01, 9.8857951e-01, 9.8857951e-01],\n",
       "        [2.1468358e-02, 3.5585370e-03, 9.8857951e-01],\n",
       "        [3.0268391e-04, 9.8857951e-01, 9.8857951e-01]], dtype=float32),\n",
       " array([[25.08308   ,  0.9885795 ,  5.3033495 ],\n",
       "        [24.439976  ,  0.9885795 ,  0.9885795 ],\n",
       "        [25.93801   ,  2.107556  ,  4.419828  ],\n",
       "        ...,\n",
       "        [ 1.2632911 ,  3.3489435 ,  0.9885795 ],\n",
       "        [ 0.9188258 ,  1.4685209 ,  0.9885795 ],\n",
       "        [ 0.48426804,  1.0938466 ,  0.9885795 ]], dtype=float32),\n",
       " array(0., dtype=float32),\n",
       " array(0., dtype=float32)]"
      ]
     },
     "execution_count": 581,
     "metadata": {},
     "output_type": "execute_result"
    }
   ],
   "source": [
    "debug_list[0]"
   ]
  },
  {
   "cell_type": "code",
   "execution_count": 594,
   "metadata": {},
   "outputs": [
    {
     "data": {
      "text/plain": [
       "array([[36964.82  , 10906.439 ,  8052.587 ],\n",
       "       [10906.439 ,  9264.844 ,  1788.9309],\n",
       "       [ 8052.587 ,  1788.9309,  3311.558 ]], dtype=float32)"
      ]
     },
     "execution_count": 594,
     "metadata": {},
     "output_type": "execute_result"
    }
   ],
   "source": [
    "np.dot(debug_list[0][2].T, debug_list[0][2]) + (np.eye(debug_list[0][2].shape[1], dtype=X.dtype) * (debug_list[0][3]))"
   ]
  },
  {
   "cell_type": "code",
   "execution_count": 596,
   "metadata": {},
   "outputs": [
    {
     "data": {
      "text/plain": [
       "1486182400.0"
      ]
     },
     "execution_count": 596,
     "metadata": {},
     "output_type": "execute_result"
    }
   ],
   "source": [
    "(lambda X, W, Ht, l1_reg, l2_reg: _update_cdnmf_fast(\n",
    "        W,\n",
    "        np.dot(Ht.T, Ht) + (np.eye(Ht.shape[1], dtype=X.dtype) * (l2_reg)), \n",
    "        safe_sparse_dot(X, Ht) - l1_reg,\n",
    "        np.arange(Ht.shape[1])\n",
    "))(*debug_list[0])"
   ]
  },
  {
   "cell_type": "code",
   "execution_count": 574,
   "metadata": {},
   "outputs": [
    {
     "data": {
      "text/plain": [
       "array(0., dtype=float32)"
      ]
     },
     "execution_count": 574,
     "metadata": {},
     "output_type": "execute_result"
    }
   ],
   "source": [
    "np.array(debug_list[0][3], dtype=X.dtype)"
   ]
  },
  {
   "cell_type": "code",
   "execution_count": 499,
   "metadata": {},
   "outputs": [
    {
     "data": {
      "text/plain": [
       "(32287, 420)"
      ]
     },
     "execution_count": 499,
     "metadata": {},
     "output_type": "execute_result"
    }
   ],
   "source": [
    "X.shape"
   ]
  },
  {
   "cell_type": "code",
   "execution_count": 501,
   "metadata": {},
   "outputs": [
    {
     "data": {
      "text/plain": [
       "(32287, 3)"
      ]
     },
     "execution_count": 501,
     "metadata": {},
     "output_type": "execute_result"
    }
   ],
   "source": [
    "W.shape"
   ]
  },
  {
   "cell_type": "code",
   "execution_count": 503,
   "metadata": {},
   "outputs": [],
   "source": [
    "_check_init(W_test, (32287, 3), \"NMF (input W)\")"
   ]
  },
  {
   "cell_type": "code",
   "execution_count": 480,
   "metadata": {},
   "outputs": [
    {
     "data": {
      "text/plain": [
       "(32287, 420)"
      ]
     },
     "execution_count": 480,
     "metadata": {},
     "output_type": "execute_result"
    }
   ],
   "source": [
    "X.shape"
   ]
  },
  {
   "cell_type": "code",
   "execution_count": 491,
   "metadata": {},
   "outputs": [
    {
     "data": {
      "text/plain": [
       "(array([[0., 0., 0.],\n",
       "        [0., 0., 0.],\n",
       "        [0., 0., 0.],\n",
       "        ...,\n",
       "        [0., 0., 0.],\n",
       "        [0., 0., 0.],\n",
       "        [0., 0., 0.]]),\n",
       " array([[0., 0., 0., ..., 0., 0., 0.],\n",
       "        [0., 0., 0., ..., 0., 0., 0.],\n",
       "        [0., 0., 0., ..., 0., 0., 0.]]),\n",
       " 1)"
      ]
     },
     "execution_count": 491,
     "metadata": {},
     "output_type": "execute_result"
    }
   ],
   "source": [
    "n_features = 3\n",
    "l1_ratio = 1\n",
    "alpha_W, alpha_H = .0, .0\n",
    "\n",
    "X = adata_sc_filtered.X.transpose().toarray()\n",
    "# Random Initialization\n",
    "#np.random.seed(5)\n",
    "#W_test = np.random.rand(X.shape[0], n_features)\n",
    "#H_test = np.random.rand(n_features, X.shape[1])\n",
    "\n",
    "# Zero Initialization\n",
    "W_test = np.zeros((X.shape[0], n_features), dtype=X.dtype)\n",
    "H_test = np.zeros((n_features, X.shape[1]), dtype=X.dtype)\n",
    "\n",
    "res = _fit_coordinate_descent_adapted(\n",
    "    H=H_test,\n",
    "    W=W_test,\n",
    "    X=X,\n",
    "    l1_reg_W=n_features * alpha_W * l1_ratio,\n",
    "    l1_reg_H=X.shape[0] * alpha_H * l1_ratio,\n",
    "    l2_reg_W=n_features * alpha_W * (1.0 - l1_ratio),\n",
    "    l2_reg_H=X.shape[0] * alpha_H * (1.0 - l1_ratio),\n",
    ")\n",
    "res"
   ]
  },
  {
   "cell_type": "code",
   "execution_count": 493,
   "metadata": {},
   "outputs": [
    {
     "data": {
      "text/plain": [
       "(array([[0.        , 0.        , 0.        ],\n",
       "        [0.        , 0.        , 0.        ],\n",
       "        [0.00670514, 0.        , 0.        ],\n",
       "        ...,\n",
       "        [1.03360301, 0.16003099, 0.89829819],\n",
       "        [0.        , 0.01592251, 0.20910314],\n",
       "        [0.        , 0.        , 0.00295093]]),\n",
       " array([[4.40749309e+00, 3.27873411e+00, 3.72970031e+00, ...,\n",
       "         0.00000000e+00, 0.00000000e+00, 1.47572751e-02],\n",
       "        [8.69931023e-01, 8.10721029e-02, 8.41087220e+00, ...,\n",
       "         1.80535193e+00, 9.43763952e-01, 6.04756138e-01],\n",
       "        [2.73102473e+00, 4.43934856e+00, 2.04803208e+00, ...,\n",
       "         6.28516073e-02, 1.27556841e-01, 5.09966941e-04]]),\n",
       " 200)"
      ]
     },
     "execution_count": 493,
     "metadata": {},
     "output_type": "execute_result"
    }
   ],
   "source": [
    "n_features = 3\n",
    "l1_ratio = 1\n",
    "alpha_W, alpha_H = .0, .0\n",
    "\n",
    "X = adata_sc_filtered.X.transpose().toarray()\n",
    "# Random Initialization\n",
    "#np.random.seed(5)\n",
    "#W_test = np.random.rand(X.shape[0], n_features)\n",
    "#H_test = np.random.rand(n_features, X.shape[1])\n",
    "\n",
    "# Zero Initialization\n",
    "W_test = np.zeros((X.shape[0], n_features))\n",
    "H_test = np.zeros((n_features, X.shape[1]))\n",
    "\n",
    "res = _fit_coordinate_descent(\n",
    "    H=H_test,\n",
    "    W=W_test,\n",
    "    X=X,\n",
    "    l1_reg_W=n_features * alpha_W * l1_ratio,\n",
    "    l1_reg_H=X.shape[0] * alpha_H * l1_ratio,\n",
    "    l2_reg_W=n_features * alpha_W * (1.0 - l1_ratio),\n",
    "    l2_reg_H=X.shape[0] * alpha_H * (1.0 - l1_ratio),\n",
    ")\n",
    "res"
   ]
  },
  {
   "cell_type": "code",
   "execution_count": 468,
   "metadata": {},
   "outputs": [
    {
     "data": {
      "text/plain": [
       "(array([[0.00000000e+00, 0.00000000e+00, 0.00000000e+00],\n",
       "        [0.00000000e+00, 0.00000000e+00, 0.00000000e+00],\n",
       "        [0.00000000e+00, 1.12134902e-02, 0.00000000e+00],\n",
       "        ...,\n",
       "        [1.23747636e+00, 1.66484609e+00, 4.34888790e-01],\n",
       "        [9.77194467e-02, 0.00000000e+00, 1.02905669e-01],\n",
       "        [0.00000000e+00, 0.00000000e+00, 1.42673224e-03]]),\n",
       " array([[2.50794171e-01, 1.13877640e-01, 1.20218785e+00, ...,\n",
       "         2.32794130e-01, 1.21681156e-01, 7.84692362e-02],\n",
       "        [2.63839322e+00, 1.95778369e+00, 2.23158341e+00, ...,\n",
       "         0.00000000e+00, 0.00000000e+00, 8.73112686e-03],\n",
       "        [5.62332239e+00, 9.17455796e+00, 4.22571500e+00, ...,\n",
       "         1.31427082e-01, 2.64625003e-01, 1.88919010e-03]]),\n",
       " 200)"
      ]
     },
     "execution_count": 468,
     "metadata": {},
     "output_type": "execute_result"
    }
   ],
   "source": [
    "np.random.seed(5)\n",
    "W_test = np.random.rand(32287, 3)\n",
    "H_test = np.random.rand(3, 420)\n",
    "\n",
    "n_features = 3\n",
    "l1_ratio = 1\n",
    "alpha_W, alpha_H = .0, .0\n",
    "l1_reg_W=n_features * alpha_W * l1_ratio\n",
    "l1_reg_H=X.shape[0] * alpha_H * l1_ratio\n",
    "l2_reg_W=n_features * alpha_W * (1.0 - l1_ratio)\n",
    "l2_reg_H=X.shape[0] * alpha_H * (1.0 - l1_ratio)\n",
    "\n",
    "res_1 = _fit_coordinate_descent(\n",
    "    H=H_test,\n",
    "    W=W_test,\n",
    "    X=X,\n",
    "    l1_reg_W=n_features * alpha_W * l1_ratio,\n",
    "    l1_reg_H=X.shape[0] * alpha_H * l1_ratio,\n",
    "    l2_reg_W=n_features * alpha_W * (1.0 - l1_ratio),\n",
    "    l2_reg_H=X.shape[0] * alpha_H * (1.0 - l1_ratio),\n",
    ")\n",
    "res_1"
   ]
  },
  {
   "cell_type": "code",
   "execution_count": 125,
   "metadata": {},
   "outputs": [
    {
     "data": {
      "text/plain": [
       "(3, 3)"
      ]
     },
     "execution_count": 125,
     "metadata": {},
     "output_type": "execute_result"
    }
   ],
   "source": [
    "np.dot(check_array(H.T, order=\"C\").T, check_array(H.T, order=\"C\")).shape"
   ]
  },
  {
   "cell_type": "code",
   "execution_count": 104,
   "metadata": {},
   "outputs": [
    {
     "data": {
      "text/plain": [
       "(3, 420)"
      ]
     },
     "execution_count": 104,
     "metadata": {},
     "output_type": "execute_result"
    }
   ],
   "source": [
    "H_test.shape"
   ]
  },
  {
   "cell_type": "code",
   "execution_count": 107,
   "metadata": {},
   "outputs": [
    {
     "data": {
      "text/plain": [
       "array([[0., 0., 0.],\n",
       "       [0., 0., 0.],\n",
       "       [0., 0., 0.],\n",
       "       ...,\n",
       "       [0., 0., 0.],\n",
       "       [0., 0., 0.],\n",
       "       [0., 0., 0.]])"
      ]
     },
     "execution_count": 107,
     "metadata": {},
     "output_type": "execute_result"
    }
   ],
   "source": [
    "safe_sparse_dot(X, H_test.T) - 0.0"
   ]
  },
  {
   "cell_type": "code",
   "execution_count": null,
   "metadata": {},
   "outputs": [],
   "source": [
    "HHt = np.dot(Ht.T, Ht) + (np.eye(Ht.shape[1] * l2_reg))\n",
    "XHt = safe_sparse_dot()"
   ]
  },
  {
   "cell_type": "code",
   "execution_count": 64,
   "metadata": {},
   "outputs": [
    {
     "data": {
      "text/plain": [
       "(array([[0., 0., 0., ..., 0., 0., 0.],\n",
       "        [0., 0., 0., ..., 0., 0., 0.],\n",
       "        [0., 0., 0., ..., 0., 0., 0.],\n",
       "        ...,\n",
       "        [2., 4., 4., ..., 0., 2., 2.],\n",
       "        [0., 0., 0., ..., 0., 0., 0.],\n",
       "        [0., 0., 0., ..., 0., 0., 0.]], dtype=float32),\n",
       " array([[0., 0., 0.],\n",
       "        [0., 0., 0.],\n",
       "        [0., 0., 0.],\n",
       "        ...,\n",
       "        [0., 0., 0.],\n",
       "        [0., 0., 0.],\n",
       "        [0., 0., 0.]]),\n",
       " array([[0., 0., 0., ..., 0., 0., 0.],\n",
       "        [0., 0., 0., ..., 0., 0., 0.],\n",
       "        [0., 0., 0., ..., 0., 0., 0.]]))"
      ]
     },
     "execution_count": 64,
     "metadata": {},
     "output_type": "execute_result"
    }
   ],
   "source": [
    "X = adata_sc_filtered.X.transpose().toarray()\n",
    "W_test = np.zeros((32287, 3))\n",
    "H_test = np.zeros((3, 420))\n",
    "X, W_test, H_test"
   ]
  },
  {
   "cell_type": "code",
   "execution_count": 454,
   "metadata": {},
   "outputs": [
    {
     "data": {
      "text/plain": [
       "(array([[0.00000000e+00, 0.00000000e+00, 0.00000000e+00],\n",
       "        [0.00000000e+00, 0.00000000e+00, 0.00000000e+00],\n",
       "        [0.00000000e+00, 2.14763626e-01, 0.00000000e+00],\n",
       "        ...,\n",
       "        [1.05172578e+00, 3.17494217e+01, 3.43425634e-01],\n",
       "        [8.37193560e-02, 0.00000000e+00, 8.06338547e-02],\n",
       "        [0.00000000e+00, 0.00000000e+00, 1.12038758e-03]]),\n",
       " array([[2.94432811e-01, 1.33568374e-01, 1.41474997e+00, ...,\n",
       "         2.74152036e-01, 1.43274033e-01, 9.23890961e-02],\n",
       "        [1.37761121e-01, 1.01959255e-01, 1.16598232e-01, ...,\n",
       "         0.00000000e+00, 0.00000000e+00, 4.60673946e-04],\n",
       "        [7.17796067e+00, 1.16830165e+01, 5.39002509e+00, ...,\n",
       "         1.64802320e-01, 3.34578405e-01, 1.96651386e-03]]),\n",
       " 200)"
      ]
     },
     "execution_count": 454,
     "metadata": {},
     "output_type": "execute_result"
    }
   ],
   "source": [
    "n_features = 3\n",
    "l1_ratio = 1\n",
    "alpha_W, alpha_H = .0, .0\n",
    "l1_reg_W=n_features * alpha_W * l1_ratio\n",
    "l1_reg_H=X.shape[0] * alpha_H * l1_ratio\n",
    "l2_reg_W=n_features * alpha_W * (1.0 - l1_ratio)\n",
    "l2_reg_H=X.shape[0] * alpha_H * (1.0 - l1_ratio)\n",
    "_fit_coordinate_descent(\n",
    "    H=H_test,\n",
    "    W=W_test,\n",
    "    X=X,\n",
    "    l1_reg_W=n_features * alpha_W * l1_ratio,\n",
    "    l1_reg_H=X.shape[0] * alpha_H * l1_ratio,\n",
    "    l2_reg_W=n_features * alpha_W * (1.0 - l1_ratio),\n",
    "    l2_reg_H=X.shape[0] * alpha_H * (1.0 - l1_ratio),\n",
    ")"
   ]
  },
  {
   "cell_type": "code",
   "execution_count": null,
   "metadata": {},
   "outputs": [],
   "source": [
    "n_features = 3\n",
    "l1_ratio = 1\n",
    "alpha_W, alpha_H = .0, .0\n",
    "l1_reg_W=n_features * alpha_W * l1_ratio\n",
    "l1_reg_H=X.shape[0] * alpha_H * l1_ratio\n",
    "l2_reg_W=n_features * alpha_W * (1.0 - l1_ratio)\n",
    "l2_reg_H=X.shape[0] * alpha_H * (1.0 - l1_ratio)\n",
    "\n",
    "res = _fit_coordinate_descent_adapted(\n",
    "    H=H_test,\n",
    "    W=W_test,\n",
    "    X=X,\n",
    "    l1_reg_W=n_features * alpha_W * l1_ratio,\n",
    "    l1_reg_H=X.shape[0] * alpha_H * l1_ratio,\n",
    "    l2_reg_W=n_features * alpha_W * (1.0 - l1_ratio),\n",
    "    l2_reg_H=X.shape[0] * alpha_H * (1.0 - l1_ratio),\n",
    ")"
   ]
  },
  {
   "cell_type": "code",
   "execution_count": 456,
   "metadata": {},
   "outputs": [
    {
     "data": {
      "text/plain": [
       "(array([[0.22199317, 0.87073231, 0.20671916],\n",
       "        [0.91861091, 0.48841119, 0.61174386],\n",
       "        [0.76590786, 0.51841799, 0.2968005 ],\n",
       "        ...,\n",
       "        [0.94330607, 0.72970754, 0.07879227],\n",
       "        [0.09241553, 0.81545633, 0.37343554],\n",
       "        [0.93611557, 0.77928695, 0.08012056]]),\n",
       " array([[0.6190048 , 0.85795757, 0.27449357],\n",
       "        [0.32434028, 0.52767169, 0.63938031],\n",
       "        [0.76901345, 0.60164408, 0.39331134],\n",
       "        ...,\n",
       "        [0.97972754, 0.81449403, 0.00673139],\n",
       "        [0.72633687, 0.41517378, 0.31265285],\n",
       "        [0.11414151, 0.60414174, 0.00418503]]))"
      ]
     },
     "execution_count": 456,
     "metadata": {},
     "output_type": "execute_result"
    }
   ],
   "source": [
    "np.random.seed(5)\n",
    "W_test = np.random.rand(32287, 3)\n",
    "Ht = check_array(np.random.rand(3, 420).T, order=\"C\")\n",
    "W_test, Ht"
   ]
  },
  {
   "cell_type": "code",
   "execution_count": 457,
   "metadata": {},
   "outputs": [
    {
     "data": {
      "text/plain": [
       "(array([[0.        , 0.        , 0.        ],\n",
       "        [0.        , 0.        , 0.        ],\n",
       "        [0.00691173, 0.        , 0.        ],\n",
       "        ...,\n",
       "        [1.06545479, 0.1568212 , 0.63792704],\n",
       "        [0.        , 0.01559818, 0.14851166],\n",
       "        [0.        , 0.        , 0.00209567]]),\n",
       " array([[4.27587694e+00, 3.18071171e+00, 3.61827487e+00, ...,\n",
       "         0.00000000e+00, 0.00000000e+00, 1.43117337e-02],\n",
       "        [8.88588131e-01, 8.33902105e-02, 8.58384305e+00, ...,\n",
       "         1.84230702e+00, 9.63080405e-01, 6.17145117e-01],\n",
       "        [3.84522093e+00, 6.25116295e+00, 2.88358966e+00, ...,\n",
       "         8.85047024e-02, 1.79625411e-01, 7.22665016e-04]]),\n",
       " 200)"
      ]
     },
     "execution_count": 457,
     "metadata": {},
     "output_type": "execute_result"
    }
   ],
   "source": [
    "res = _fit_coordinate_descent_adapted(\n",
    "    H=H_test,\n",
    "    W=W_test,\n",
    "    X=X,\n",
    "    l1_reg_W=n_features * alpha_W * l1_ratio,\n",
    "    l1_reg_H=X.shape[0] * alpha_H * l1_ratio,\n",
    "    l2_reg_W=n_features * alpha_W * (1.0 - l1_ratio),\n",
    "    l2_reg_H=X.shape[0] * alpha_H * (1.0 - l1_ratio),\n",
    ")"
   ]
  },
  {
   "cell_type": "code",
   "execution_count": 442,
   "metadata": {},
   "outputs": [
    {
     "data": {
      "text/plain": [
       "16184809.129557373"
      ]
     },
     "execution_count": 442,
     "metadata": {},
     "output_type": "execute_result"
    }
   ],
   "source": [
    "(lambda X, W, Ht, l1_reg, l2_reg: _update_cdnmf_fast(\n",
    "    W,\n",
    "    np.dot(Ht.T, Ht) + (np.eye(Ht.shape[1]) * (l2_reg)), \n",
    "    safe_sparse_dot(X, Ht) - l1_reg,\n",
    "    np.arange(Ht.shape[1])\n",
    "))(X, W_test, Ht, l1_reg_W, l2_reg_W)"
   ]
  },
  {
   "cell_type": "code",
   "execution_count": 450,
   "metadata": {},
   "outputs": [
    {
     "data": {
      "text/plain": [
       "4390737.6297253715"
      ]
     },
     "execution_count": 450,
     "metadata": {},
     "output_type": "execute_result"
    }
   ],
   "source": [
    "(lambda X, W, Ht, l1_reg, l2_reg: _update_cdnmf_fast(\n",
    "    W,\n",
    "    np.dot(Ht.T, Ht) + (np.eye(Ht.shape[1]) * (l2_reg)), \n",
    "    safe_sparse_dot(X, Ht) - l1_reg,\n",
    "    np.arange(Ht.shape[1])\n",
    "))(X.T, Ht, W_test, l1_reg_H, l2_reg_H)"
   ]
  },
  {
   "cell_type": "code",
   "execution_count": 452,
   "metadata": {},
   "outputs": [
    {
     "name": "stdout",
     "output_type": "stream",
     "text": [
      "Ht shape (420, 3)\n",
      "HHt shape (3, 3)\n"
     ]
    },
    {
     "data": {
      "text/plain": [
       "16184809.129557373"
      ]
     },
     "execution_count": 452,
     "metadata": {},
     "output_type": "execute_result"
    }
   ],
   "source": [
    "_update_coordinate_descent(\n",
    "            X, W_test, Ht, l1_reg_W, l2_reg_W, False, check_random_state(None)\n",
    "        )\n"
   ]
  },
  {
   "cell_type": "code",
   "execution_count": 448,
   "metadata": {},
   "outputs": [
    {
     "name": "stdout",
     "output_type": "stream",
     "text": [
      "Ht shape (32287, 3)\n",
      "HHt shape (3, 3)\n"
     ]
    },
    {
     "data": {
      "text/plain": [
       "4390737.6297253715"
      ]
     },
     "execution_count": 448,
     "metadata": {},
     "output_type": "execute_result"
    }
   ],
   "source": [
    "_update_coordinate_descent(\n",
    "                X.T, Ht, W_test, l1_reg_H, l2_reg_H, False, check_random_state(None)\n",
    "            )"
   ]
  }
 ],
 "metadata": {
  "kernelspec": {
   "display_name": "scvi_mps-env",
   "language": "python",
   "name": "python3"
  },
  "language_info": {
   "codemirror_mode": {
    "name": "ipython",
    "version": 3
   },
   "file_extension": ".py",
   "mimetype": "text/x-python",
   "name": "python",
   "nbconvert_exporter": "python",
   "pygments_lexer": "ipython3",
   "version": "3.10.16"
  }
 },
 "nbformat": 4,
 "nbformat_minor": 2
}
