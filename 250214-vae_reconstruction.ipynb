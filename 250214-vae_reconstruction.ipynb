{
 "cells": [
  {
   "cell_type": "code",
   "execution_count": 1,
   "metadata": {},
   "outputs": [
    {
     "name": "stderr",
     "output_type": "stream",
     "text": [
      "/opt/homebrew/Caskroom/miniforge/base/envs/scvi_mps-env/lib/python3.10/site-packages/tqdm/auto.py:21: TqdmWarning: IProgress not found. Please update jupyter and ipywidgets. See https://ipywidgets.readthedocs.io/en/stable/user_install.html\n",
      "  from .autonotebook import tqdm as notebook_tqdm\n"
     ]
    }
   ],
   "source": [
    "import seaborn as sns\n",
    "from typing import Union\n",
    "from sklearn.decomposition import non_negative_factorization\n",
    "import numpy as np\n",
    "import scanpy as sc\n",
    "from pathlib import Path\n",
    "from scipy.stats import pearsonr\n",
    "import matplotlib.pyplot as plt\n",
    "from tqdm import tqdm\n",
    "import functools\n",
    "from anndata import AnnData\n",
    "import scvi"
   ]
  },
  {
   "cell_type": "code",
   "execution_count": 7,
   "metadata": {},
   "outputs": [],
   "source": [
    "from scvi.module.base import (\n",
    "    BaseMinifiedModeModuleClass,\n",
    "    EmbeddingModuleMixin,\n",
    "    LossOutput,\n",
    "    auto_move_data,\n",
    ")\n",
    "\n",
    "from scvi.nn import Encoder"
   ]
  },
  {
   "cell_type": "code",
   "execution_count": 2,
   "metadata": {},
   "outputs": [],
   "source": [
    "def create_folders(base_path: str, structure: dict, current_path: Union[str, Path] = None) -> None:\n",
    "    if current_path is None:\n",
    "        current_path = Path(base_path)\n",
    "    Path(current_path).mkdir(exist_ok=True)\n",
    "    for key, value in structure.items():\n",
    "        new_path = current_path / str(key)\n",
    "        if isinstance(value, dict):\n",
    "            Path(new_path).mkdir(exist_ok=True)\n",
    "            create_folders(base_path, value, new_path)"
   ]
  },
  {
   "cell_type": "code",
   "execution_count": 3,
   "metadata": {},
   "outputs": [
    {
     "name": "stdout",
     "output_type": "stream",
     "text": [
      "len(shared_genes)=47\n"
     ]
    }
   ],
   "source": [
    "celltype = \"Stem/TA\"\n",
    "adata_sp = (lambda x: x[x.obs[\"nico_ct\"] == celltype].copy())(sc.read_h5ad(Path.cwd() / \"data\" / \"nico_out\" / \"nico_celltype_annotation.h5ad\"))\n",
    "#adata_sp = sc.read_h5ad(Path.cwd() / \"data\" / \"nico_out\" / \"nico_celltype_annotation.h5ad\")\n",
    "adata_sc = (lambda x: x[x.obs[\"cluster\"] == celltype].copy())(sc.read_h5ad(Path.cwd() / \"data\" / \"inputRef\" / \"input_ref.h5ad\"))\n",
    "#adata_sc = sc.read_h5ad(Path.cwd() / \"data\" / \"inputRef\" / \"input_ref.h5ad\")\n",
    "#sc.pp.filter_genes(adata_sp, min_counts=50)\n",
    "#sc.pp.filter_genes(adata_sc, min_counts=50)\n",
    "sc.pp.filter_genes(adata_sp, min_counts=50)\n",
    "sc.pp.filter_genes(adata_sc, min_counts=50)\n",
    "shared_genes_mask_sc = np.isin(adata_sc.var_names, adata_sp.var_names)\n",
    "shared_genes_mask_sp = np.isin(adata_sp.var_names, adata_sc.var_names)\n",
    "shared_genes = adata_sc[:, shared_genes_mask_sc].var_names\n",
    "print(f\"{len(shared_genes)=}\")"
   ]
  },
  {
   "cell_type": "code",
   "execution_count": 10,
   "metadata": {},
   "outputs": [
    {
     "ename": "TypeError",
     "evalue": "Encoder.__init__() missing 2 required positional arguments: 'n_input' and 'n_output'",
     "output_type": "error",
     "traceback": [
      "\u001b[0;31m---------------------------------------------------------------------------\u001b[0m",
      "\u001b[0;31mTypeError\u001b[0m                                 Traceback (most recent call last)",
      "\u001b[1;32m/Users/egerc/Documents/Projects/spatial_transcript_inference/250214-vae_reconstruction.ipynb Cell 5\u001b[0m line \u001b[0;36m1\n\u001b[0;32m----> <a href='vscode-notebook-cell:/Users/egerc/Documents/Projects/spatial_transcript_inference/250214-vae_reconstruction.ipynb#X11sZmlsZQ%3D%3D?line=0'>1</a>\u001b[0m Encoder()\n",
      "\u001b[0;31mTypeError\u001b[0m: Encoder.__init__() missing 2 required positional arguments: 'n_input' and 'n_output'"
     ]
    }
   ],
   "source": [
    "Encoder()"
   ]
  },
  {
   "cell_type": "code",
   "execution_count": 8,
   "metadata": {},
   "outputs": [],
   "source": [
    "class Linear_scvi_integration(EmbeddingModuleMixin, BaseMinifiedModeModuleClass):\n",
    "    pass"
   ]
  }
 ],
 "metadata": {
  "kernelspec": {
   "display_name": "scvi_mps-env",
   "language": "python",
   "name": "python3"
  },
  "language_info": {
   "codemirror_mode": {
    "name": "ipython",
    "version": 3
   },
   "file_extension": ".py",
   "mimetype": "text/x-python",
   "name": "python",
   "nbconvert_exporter": "python",
   "pygments_lexer": "ipython3",
   "version": "3.10.16"
  }
 },
 "nbformat": 4,
 "nbformat_minor": 2
}
